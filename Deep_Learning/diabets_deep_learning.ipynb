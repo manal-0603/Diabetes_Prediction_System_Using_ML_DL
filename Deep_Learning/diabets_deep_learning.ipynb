{
  "cells": [
    {
      "cell_type": "markdown",
      "metadata": {
        "id": "zaXY-iz_aocV"
      },
      "source": [
        "\n",
        "# **<center><font style=\"color:rgb(100,109,254)\">Diabetes Prediction Using Deep Learning</font> </center>**\n",
        "\n",
        "<center>\n",
        "<img src='https://www.cdc.gov/diabetes/images/library/spotlights/diabetes-stats-report-724px.png?_=42420' with=\"100%\"></center>"
      ]
    },
    {
      "cell_type": "markdown",
      "metadata": {
        "id": "cLJ1-ZxudR9A"
      },
      "source": [
        "Dans ce mini projet, nous allons prédire si le patient est diabétique ou non sur la base des features que nous fournirons à notre modèle de deep learning"
      ]
    },
    {
      "cell_type": "markdown",
      "metadata": {
        "id": "1nULFPikdbeO"
      },
      "source": [
        "\n",
        "\n",
        "- **`Step 1:` Chargement et préparation des données**\n",
        "\n",
        "    - **Téléchargement des données**\n",
        "\n",
        "    - **Analyse exploratoire des données (EDA)** :  pour comprendre les tendances et les relations entre les variables.\n",
        "\n",
        "    - **Visualisation des données** : pour mieux comprendre les distributions et les corrélations.\n",
        "\n",
        "- **`Step 2:`  Préparation du modèle Deep learning**\n",
        "\n",
        "    - **Préparation de l'ensemble de données avant création du modèle** : en divisant les données en ensembles d'entraînement et de test.\n",
        "    \n",
        "    - **Création du modèle Deep Learning**\n",
        "\n",
        "- **`Step 3:`  Compilation du modèle** : en spécifiant la fonction de perte, l'optimiseur et les métriques à utiliser.\n",
        "\n",
        "- **`Step 4:` Entrainemenet du modèle**\n",
        "\n",
        "- **`Step 5:` Evaluation des performances du modèle** :  en utilisant les données de test et en comparant les prédictions avec les vraies valeurs.\n",
        "\n",
        "- **`Step 6:` Utilisation du modèle préparé déjà et affichage de son diagramme à l’aide de la fonction plot_model**\n",
        "\n",
        "- **`Step 7:` Compiler du modèle à nouveau en utilisant le paramètre validation_split**\n",
        "\n",
        "- **`Step 8:`  Analyse visuelle à l’aide des fonctions de la bibliothèque MatPLotLib** : Utilisation de la bibliothèque Matplotlib pour faire des analyses visuelles des performances du modèle, telles que des graphiques de perte et de précision.\n",
        "\n",
        "- **`Step 9:` La prédiction sur les données de test**"
      ]
    },
    {
      "cell_type": "markdown",
      "metadata": {
        "id": "bXCvpschhfrp"
      },
      "source": [
        "### **<font style=\"color:rgb(134,19,348)\"> Importation des bibliothèques</font>**\n",
        "\n",
        "Nous allons commencer par installer et importer les bibliothèques requises."
      ]
    },
    {
      "cell_type": "code",
      "execution_count": null,
      "metadata": {
        "id": "tcD3RcsD4kNZ"
      },
      "outputs": [],
      "source": [
        "import numpy as np\n",
        "import pandas as pd\n",
        "import matplotlib.pyplot as plt\n",
        "import seaborn as sns\n",
        "\n",
        "sns.set()\n",
        "\n",
        "from mlxtend.plotting import plot_decision_regions\n",
        "import missingno as msno\n",
        "from pandas.plotting import scatter_matrix\n",
        "from sklearn.preprocessing import StandardScaler\n",
        "from sklearn.model_selection import train_test_split\n",
        "from sklearn.neighbors import KNeighborsClassifier\n",
        "from sklearn import metrics\n",
        "from sklearn.metrics import classification_report\n",
        "import warnings\n",
        "warnings.filterwarnings('ignore')\n",
        "%matplotlib inline"
      ]
    },
    {
      "cell_type": "markdown",
      "metadata": {
        "id": "n2dwYVzyi3fP"
      },
      "source": [
        "## **<font style=\"color:rgb(134,19,348)\">Step 1: Chargement et préparation des données</font>**\n",
        "\n",
        "#### **<font style=\"color:rgb(134,19,348)\"> => Téléchargement des données</font>**\n",
        "\n",
        "\n",
        "Dans un premier temps, nous téléchargerons et visualiserons les données ainsi que les étiquettes pour avoir une idée de ce à quoi nous allons avoir affaire. Nous utiliserons l'ensemble de données provient à l'origine de l'Institut national du diabète et des maladies digestives et rénales. L'objectif de l'ensemble de données est de prédire de manière diagnostique si un patient est diabétique ou non, sur la base de certaines mesures diagnostiques incluses dans l'ensemble de données. Plusieurs contraintes ont été placées sur la sélection de ces instances à partir d'une plus grande base de données."
      ]
    },
    {
      "cell_type": "code",
      "execution_count": null,
      "metadata": {
        "id": "eOmG8JNIlRZ1",
        "colab": {
          "base_uri": "https://localhost:8080/",
          "height": 224
        },
        "outputId": "1fb26f35-6048-431a-90a2-61a6600bf093"
      },
      "outputs": [
        {
          "output_type": "stream",
          "name": "stdout",
          "text": [
            "Mounted at /content/drive\n"
          ]
        },
        {
          "output_type": "execute_result",
          "data": {
            "text/plain": [
              "   6  148  72  35    0  33.6  0.627  50  1\n",
              "0  1   85  66  29    0  26.6  0.351  31  0\n",
              "1  8  183  64   0    0  23.3  0.672  32  1\n",
              "2  1   89  66  23   94  28.1  0.167  21  0\n",
              "3  0  137  40  35  168  43.1  2.288  33  1\n",
              "4  5  116  74   0    0  25.6  0.201  30  0"
            ],
            "text/html": [
              "\n",
              "  <div id=\"df-5c3618c1-8011-4ebd-9a5e-6b2f684c353b\">\n",
              "    <div class=\"colab-df-container\">\n",
              "      <div>\n",
              "<style scoped>\n",
              "    .dataframe tbody tr th:only-of-type {\n",
              "        vertical-align: middle;\n",
              "    }\n",
              "\n",
              "    .dataframe tbody tr th {\n",
              "        vertical-align: top;\n",
              "    }\n",
              "\n",
              "    .dataframe thead th {\n",
              "        text-align: right;\n",
              "    }\n",
              "</style>\n",
              "<table border=\"1\" class=\"dataframe\">\n",
              "  <thead>\n",
              "    <tr style=\"text-align: right;\">\n",
              "      <th></th>\n",
              "      <th>6</th>\n",
              "      <th>148</th>\n",
              "      <th>72</th>\n",
              "      <th>35</th>\n",
              "      <th>0</th>\n",
              "      <th>33.6</th>\n",
              "      <th>0.627</th>\n",
              "      <th>50</th>\n",
              "      <th>1</th>\n",
              "    </tr>\n",
              "  </thead>\n",
              "  <tbody>\n",
              "    <tr>\n",
              "      <th>0</th>\n",
              "      <td>1</td>\n",
              "      <td>85</td>\n",
              "      <td>66</td>\n",
              "      <td>29</td>\n",
              "      <td>0</td>\n",
              "      <td>26.6</td>\n",
              "      <td>0.351</td>\n",
              "      <td>31</td>\n",
              "      <td>0</td>\n",
              "    </tr>\n",
              "    <tr>\n",
              "      <th>1</th>\n",
              "      <td>8</td>\n",
              "      <td>183</td>\n",
              "      <td>64</td>\n",
              "      <td>0</td>\n",
              "      <td>0</td>\n",
              "      <td>23.3</td>\n",
              "      <td>0.672</td>\n",
              "      <td>32</td>\n",
              "      <td>1</td>\n",
              "    </tr>\n",
              "    <tr>\n",
              "      <th>2</th>\n",
              "      <td>1</td>\n",
              "      <td>89</td>\n",
              "      <td>66</td>\n",
              "      <td>23</td>\n",
              "      <td>94</td>\n",
              "      <td>28.1</td>\n",
              "      <td>0.167</td>\n",
              "      <td>21</td>\n",
              "      <td>0</td>\n",
              "    </tr>\n",
              "    <tr>\n",
              "      <th>3</th>\n",
              "      <td>0</td>\n",
              "      <td>137</td>\n",
              "      <td>40</td>\n",
              "      <td>35</td>\n",
              "      <td>168</td>\n",
              "      <td>43.1</td>\n",
              "      <td>2.288</td>\n",
              "      <td>33</td>\n",
              "      <td>1</td>\n",
              "    </tr>\n",
              "    <tr>\n",
              "      <th>4</th>\n",
              "      <td>5</td>\n",
              "      <td>116</td>\n",
              "      <td>74</td>\n",
              "      <td>0</td>\n",
              "      <td>0</td>\n",
              "      <td>25.6</td>\n",
              "      <td>0.201</td>\n",
              "      <td>30</td>\n",
              "      <td>0</td>\n",
              "    </tr>\n",
              "  </tbody>\n",
              "</table>\n",
              "</div>\n",
              "      <button class=\"colab-df-convert\" onclick=\"convertToInteractive('df-5c3618c1-8011-4ebd-9a5e-6b2f684c353b')\"\n",
              "              title=\"Convert this dataframe to an interactive table.\"\n",
              "              style=\"display:none;\">\n",
              "        \n",
              "  <svg xmlns=\"http://www.w3.org/2000/svg\" height=\"24px\"viewBox=\"0 0 24 24\"\n",
              "       width=\"24px\">\n",
              "    <path d=\"M0 0h24v24H0V0z\" fill=\"none\"/>\n",
              "    <path d=\"M18.56 5.44l.94 2.06.94-2.06 2.06-.94-2.06-.94-.94-2.06-.94 2.06-2.06.94zm-11 1L8.5 8.5l.94-2.06 2.06-.94-2.06-.94L8.5 2.5l-.94 2.06-2.06.94zm10 10l.94 2.06.94-2.06 2.06-.94-2.06-.94-.94-2.06-.94 2.06-2.06.94z\"/><path d=\"M17.41 7.96l-1.37-1.37c-.4-.4-.92-.59-1.43-.59-.52 0-1.04.2-1.43.59L10.3 9.45l-7.72 7.72c-.78.78-.78 2.05 0 2.83L4 21.41c.39.39.9.59 1.41.59.51 0 1.02-.2 1.41-.59l7.78-7.78 2.81-2.81c.8-.78.8-2.07 0-2.86zM5.41 20L4 18.59l7.72-7.72 1.47 1.35L5.41 20z\"/>\n",
              "  </svg>\n",
              "      </button>\n",
              "      \n",
              "  <style>\n",
              "    .colab-df-container {\n",
              "      display:flex;\n",
              "      flex-wrap:wrap;\n",
              "      gap: 12px;\n",
              "    }\n",
              "\n",
              "    .colab-df-convert {\n",
              "      background-color: #E8F0FE;\n",
              "      border: none;\n",
              "      border-radius: 50%;\n",
              "      cursor: pointer;\n",
              "      display: none;\n",
              "      fill: #1967D2;\n",
              "      height: 32px;\n",
              "      padding: 0 0 0 0;\n",
              "      width: 32px;\n",
              "    }\n",
              "\n",
              "    .colab-df-convert:hover {\n",
              "      background-color: #E2EBFA;\n",
              "      box-shadow: 0px 1px 2px rgba(60, 64, 67, 0.3), 0px 1px 3px 1px rgba(60, 64, 67, 0.15);\n",
              "      fill: #174EA6;\n",
              "    }\n",
              "\n",
              "    [theme=dark] .colab-df-convert {\n",
              "      background-color: #3B4455;\n",
              "      fill: #D2E3FC;\n",
              "    }\n",
              "\n",
              "    [theme=dark] .colab-df-convert:hover {\n",
              "      background-color: #434B5C;\n",
              "      box-shadow: 0px 1px 3px 1px rgba(0, 0, 0, 0.15);\n",
              "      filter: drop-shadow(0px 1px 2px rgba(0, 0, 0, 0.3));\n",
              "      fill: #FFFFFF;\n",
              "    }\n",
              "  </style>\n",
              "\n",
              "      <script>\n",
              "        const buttonEl =\n",
              "          document.querySelector('#df-5c3618c1-8011-4ebd-9a5e-6b2f684c353b button.colab-df-convert');\n",
              "        buttonEl.style.display =\n",
              "          google.colab.kernel.accessAllowed ? 'block' : 'none';\n",
              "\n",
              "        async function convertToInteractive(key) {\n",
              "          const element = document.querySelector('#df-5c3618c1-8011-4ebd-9a5e-6b2f684c353b');\n",
              "          const dataTable =\n",
              "            await google.colab.kernel.invokeFunction('convertToInteractive',\n",
              "                                                     [key], {});\n",
              "          if (!dataTable) return;\n",
              "\n",
              "          const docLinkHtml = 'Like what you see? Visit the ' +\n",
              "            '<a target=\"_blank\" href=https://colab.research.google.com/notebooks/data_table.ipynb>data table notebook</a>'\n",
              "            + ' to learn more about interactive tables.';\n",
              "          element.innerHTML = '';\n",
              "          dataTable['output_type'] = 'display_data';\n",
              "          await google.colab.output.renderOutput(dataTable, element);\n",
              "          const docLink = document.createElement('div');\n",
              "          docLink.innerHTML = docLinkHtml;\n",
              "          element.appendChild(docLink);\n",
              "        }\n",
              "      </script>\n",
              "    </div>\n",
              "  </div>\n",
              "  "
            ]
          },
          "metadata": {},
          "execution_count": 2
        }
      ],
      "source": [
        "from google.colab import drive\n",
        "drive.mount('/content/drive', force_remount=True) \n",
        "df_diabetes = pd.read_csv('/content/drive/My Drive/Colab Notebooks/data-diabetes.csv')\n",
        "\n",
        "df_diabetes.head()"
      ]
    },
    {
      "cell_type": "markdown",
      "metadata": {
        "id": "NOWfENJguPLb"
      },
      "source": [
        "#### **<font style=\"color:rgb(134,19,348)\">=> Analyse exploratoire des données (EDA)</font>**"
      ]
    },
    {
      "cell_type": "code",
      "execution_count": null,
      "metadata": {
        "id": "bYfEmx8juLIZ",
        "colab": {
          "base_uri": "https://localhost:8080/"
        },
        "outputId": "28e1300e-6370-4479-fc90-fc7caa6211a9"
      },
      "outputs": [
        {
          "output_type": "execute_result",
          "data": {
            "text/plain": [
              "Index(['6', '148', '72', '35', '0', '33.6', '0.627', '50', '1'], dtype='object')"
            ]
          },
          "metadata": {},
          "execution_count": 3
        }
      ],
      "source": [
        "# Afficher les colonnes disponibles dans notre dataset\n",
        "df_diabetes.columns"
      ]
    },
    {
      "cell_type": "code",
      "execution_count": null,
      "metadata": {
        "id": "8SusSHtI_3jE"
      },
      "outputs": [],
      "source": [
        "# Définir des noms de colonnes\n",
        "col_names = ['Pregnancies', 'Glucose', 'BloodPressure', 'SkinThickness', 'Insulin',\n",
        "       'BMI', 'DiabetesPedigreeFunction', 'Age', 'Outcome']\n",
        "\n",
        "# Affecter les noms de colonnes à la DataFrame\n",
        "df_diabetes.columns = col_names"
      ]
    },
    {
      "cell_type": "code",
      "execution_count": null,
      "metadata": {
        "id": "B83l6_S9AAFL",
        "colab": {
          "base_uri": "https://localhost:8080/"
        },
        "outputId": "450a95f1-ed92-4d7b-a264-edb3db78ea74"
      },
      "outputs": [
        {
          "output_type": "execute_result",
          "data": {
            "text/plain": [
              "Index(['Pregnancies', 'Glucose', 'BloodPressure', 'SkinThickness', 'Insulin',\n",
              "       'BMI', 'DiabetesPedigreeFunction', 'Age', 'Outcome'],\n",
              "      dtype='object')"
            ]
          },
          "metadata": {},
          "execution_count": 5
        }
      ],
      "source": [
        "# Afficher les colonnes disponibles dans notre dataset\n",
        "df_diabetes.columns"
      ]
    },
    {
      "cell_type": "code",
      "execution_count": null,
      "metadata": {
        "id": "qgW4ydX-uxHA",
        "colab": {
          "base_uri": "https://localhost:8080/"
        },
        "outputId": "ba643868-f618-452c-a9e9-8aa4287d1acb"
      },
      "outputs": [
        {
          "output_type": "stream",
          "name": "stdout",
          "text": [
            "<class 'pandas.core.frame.DataFrame'>\n",
            "RangeIndex: 767 entries, 0 to 766\n",
            "Data columns (total 9 columns):\n",
            " #   Column                    Non-Null Count  Dtype  \n",
            "---  ------                    --------------  -----  \n",
            " 0   Pregnancies               767 non-null    int64  \n",
            " 1   Glucose                   767 non-null    int64  \n",
            " 2   BloodPressure             767 non-null    int64  \n",
            " 3   SkinThickness             767 non-null    int64  \n",
            " 4   Insulin                   767 non-null    int64  \n",
            " 5   BMI                       767 non-null    float64\n",
            " 6   DiabetesPedigreeFunction  767 non-null    float64\n",
            " 7   Age                       767 non-null    int64  \n",
            " 8   Outcome                   767 non-null    int64  \n",
            "dtypes: float64(2), int64(7)\n",
            "memory usage: 54.1 KB\n"
          ]
        }
      ],
      "source": [
        "# afficher des informations sur notre dataframe, \n",
        "# y compris le type d'index et les colonnes, les valeurs non nulles et l'utilisation de la mémoire.\n",
        "df_diabetes.info()"
      ]
    },
    {
      "cell_type": "code",
      "execution_count": null,
      "metadata": {
        "id": "-3fXoi3SvOov",
        "colab": {
          "base_uri": "https://localhost:8080/",
          "height": 364
        },
        "outputId": "4b3f5bc8-18ab-421a-f56f-c8185bb39beb"
      },
      "outputs": [
        {
          "output_type": "execute_result",
          "data": {
            "text/plain": [
              "       Pregnancies     Glucose  BloodPressure  SkinThickness     Insulin  \\\n",
              "count   767.000000  767.000000     767.000000     767.000000  767.000000   \n",
              "mean      3.842243  120.859192      69.101695      20.517601   79.903520   \n",
              "std       3.370877   31.978468      19.368155      15.954059  115.283105   \n",
              "min       0.000000    0.000000       0.000000       0.000000    0.000000   \n",
              "25%       1.000000   99.000000      62.000000       0.000000    0.000000   \n",
              "50%       3.000000  117.000000      72.000000      23.000000   32.000000   \n",
              "75%       6.000000  140.000000      80.000000      32.000000  127.500000   \n",
              "max      17.000000  199.000000     122.000000      99.000000  846.000000   \n",
              "\n",
              "              BMI  DiabetesPedigreeFunction         Age     Outcome  \n",
              "count  767.000000                767.000000  767.000000  767.000000  \n",
              "mean    31.990482                  0.471674   33.219035    0.348110  \n",
              "std      7.889091                  0.331497   11.752296    0.476682  \n",
              "min      0.000000                  0.078000   21.000000    0.000000  \n",
              "25%     27.300000                  0.243500   24.000000    0.000000  \n",
              "50%     32.000000                  0.371000   29.000000    0.000000  \n",
              "75%     36.600000                  0.625000   41.000000    1.000000  \n",
              "max     67.100000                  2.420000   81.000000    1.000000  "
            ],
            "text/html": [
              "\n",
              "  <div id=\"df-e4756e6f-9c2e-4aee-9d26-f866cd8b60bc\">\n",
              "    <div class=\"colab-df-container\">\n",
              "      <div>\n",
              "<style scoped>\n",
              "    .dataframe tbody tr th:only-of-type {\n",
              "        vertical-align: middle;\n",
              "    }\n",
              "\n",
              "    .dataframe tbody tr th {\n",
              "        vertical-align: top;\n",
              "    }\n",
              "\n",
              "    .dataframe thead th {\n",
              "        text-align: right;\n",
              "    }\n",
              "</style>\n",
              "<table border=\"1\" class=\"dataframe\">\n",
              "  <thead>\n",
              "    <tr style=\"text-align: right;\">\n",
              "      <th></th>\n",
              "      <th>Pregnancies</th>\n",
              "      <th>Glucose</th>\n",
              "      <th>BloodPressure</th>\n",
              "      <th>SkinThickness</th>\n",
              "      <th>Insulin</th>\n",
              "      <th>BMI</th>\n",
              "      <th>DiabetesPedigreeFunction</th>\n",
              "      <th>Age</th>\n",
              "      <th>Outcome</th>\n",
              "    </tr>\n",
              "  </thead>\n",
              "  <tbody>\n",
              "    <tr>\n",
              "      <th>count</th>\n",
              "      <td>767.000000</td>\n",
              "      <td>767.000000</td>\n",
              "      <td>767.000000</td>\n",
              "      <td>767.000000</td>\n",
              "      <td>767.000000</td>\n",
              "      <td>767.000000</td>\n",
              "      <td>767.000000</td>\n",
              "      <td>767.000000</td>\n",
              "      <td>767.000000</td>\n",
              "    </tr>\n",
              "    <tr>\n",
              "      <th>mean</th>\n",
              "      <td>3.842243</td>\n",
              "      <td>120.859192</td>\n",
              "      <td>69.101695</td>\n",
              "      <td>20.517601</td>\n",
              "      <td>79.903520</td>\n",
              "      <td>31.990482</td>\n",
              "      <td>0.471674</td>\n",
              "      <td>33.219035</td>\n",
              "      <td>0.348110</td>\n",
              "    </tr>\n",
              "    <tr>\n",
              "      <th>std</th>\n",
              "      <td>3.370877</td>\n",
              "      <td>31.978468</td>\n",
              "      <td>19.368155</td>\n",
              "      <td>15.954059</td>\n",
              "      <td>115.283105</td>\n",
              "      <td>7.889091</td>\n",
              "      <td>0.331497</td>\n",
              "      <td>11.752296</td>\n",
              "      <td>0.476682</td>\n",
              "    </tr>\n",
              "    <tr>\n",
              "      <th>min</th>\n",
              "      <td>0.000000</td>\n",
              "      <td>0.000000</td>\n",
              "      <td>0.000000</td>\n",
              "      <td>0.000000</td>\n",
              "      <td>0.000000</td>\n",
              "      <td>0.000000</td>\n",
              "      <td>0.078000</td>\n",
              "      <td>21.000000</td>\n",
              "      <td>0.000000</td>\n",
              "    </tr>\n",
              "    <tr>\n",
              "      <th>25%</th>\n",
              "      <td>1.000000</td>\n",
              "      <td>99.000000</td>\n",
              "      <td>62.000000</td>\n",
              "      <td>0.000000</td>\n",
              "      <td>0.000000</td>\n",
              "      <td>27.300000</td>\n",
              "      <td>0.243500</td>\n",
              "      <td>24.000000</td>\n",
              "      <td>0.000000</td>\n",
              "    </tr>\n",
              "    <tr>\n",
              "      <th>50%</th>\n",
              "      <td>3.000000</td>\n",
              "      <td>117.000000</td>\n",
              "      <td>72.000000</td>\n",
              "      <td>23.000000</td>\n",
              "      <td>32.000000</td>\n",
              "      <td>32.000000</td>\n",
              "      <td>0.371000</td>\n",
              "      <td>29.000000</td>\n",
              "      <td>0.000000</td>\n",
              "    </tr>\n",
              "    <tr>\n",
              "      <th>75%</th>\n",
              "      <td>6.000000</td>\n",
              "      <td>140.000000</td>\n",
              "      <td>80.000000</td>\n",
              "      <td>32.000000</td>\n",
              "      <td>127.500000</td>\n",
              "      <td>36.600000</td>\n",
              "      <td>0.625000</td>\n",
              "      <td>41.000000</td>\n",
              "      <td>1.000000</td>\n",
              "    </tr>\n",
              "    <tr>\n",
              "      <th>max</th>\n",
              "      <td>17.000000</td>\n",
              "      <td>199.000000</td>\n",
              "      <td>122.000000</td>\n",
              "      <td>99.000000</td>\n",
              "      <td>846.000000</td>\n",
              "      <td>67.100000</td>\n",
              "      <td>2.420000</td>\n",
              "      <td>81.000000</td>\n",
              "      <td>1.000000</td>\n",
              "    </tr>\n",
              "  </tbody>\n",
              "</table>\n",
              "</div>\n",
              "      <button class=\"colab-df-convert\" onclick=\"convertToInteractive('df-e4756e6f-9c2e-4aee-9d26-f866cd8b60bc')\"\n",
              "              title=\"Convert this dataframe to an interactive table.\"\n",
              "              style=\"display:none;\">\n",
              "        \n",
              "  <svg xmlns=\"http://www.w3.org/2000/svg\" height=\"24px\"viewBox=\"0 0 24 24\"\n",
              "       width=\"24px\">\n",
              "    <path d=\"M0 0h24v24H0V0z\" fill=\"none\"/>\n",
              "    <path d=\"M18.56 5.44l.94 2.06.94-2.06 2.06-.94-2.06-.94-.94-2.06-.94 2.06-2.06.94zm-11 1L8.5 8.5l.94-2.06 2.06-.94-2.06-.94L8.5 2.5l-.94 2.06-2.06.94zm10 10l.94 2.06.94-2.06 2.06-.94-2.06-.94-.94-2.06-.94 2.06-2.06.94z\"/><path d=\"M17.41 7.96l-1.37-1.37c-.4-.4-.92-.59-1.43-.59-.52 0-1.04.2-1.43.59L10.3 9.45l-7.72 7.72c-.78.78-.78 2.05 0 2.83L4 21.41c.39.39.9.59 1.41.59.51 0 1.02-.2 1.41-.59l7.78-7.78 2.81-2.81c.8-.78.8-2.07 0-2.86zM5.41 20L4 18.59l7.72-7.72 1.47 1.35L5.41 20z\"/>\n",
              "  </svg>\n",
              "      </button>\n",
              "      \n",
              "  <style>\n",
              "    .colab-df-container {\n",
              "      display:flex;\n",
              "      flex-wrap:wrap;\n",
              "      gap: 12px;\n",
              "    }\n",
              "\n",
              "    .colab-df-convert {\n",
              "      background-color: #E8F0FE;\n",
              "      border: none;\n",
              "      border-radius: 50%;\n",
              "      cursor: pointer;\n",
              "      display: none;\n",
              "      fill: #1967D2;\n",
              "      height: 32px;\n",
              "      padding: 0 0 0 0;\n",
              "      width: 32px;\n",
              "    }\n",
              "\n",
              "    .colab-df-convert:hover {\n",
              "      background-color: #E2EBFA;\n",
              "      box-shadow: 0px 1px 2px rgba(60, 64, 67, 0.3), 0px 1px 3px 1px rgba(60, 64, 67, 0.15);\n",
              "      fill: #174EA6;\n",
              "    }\n",
              "\n",
              "    [theme=dark] .colab-df-convert {\n",
              "      background-color: #3B4455;\n",
              "      fill: #D2E3FC;\n",
              "    }\n",
              "\n",
              "    [theme=dark] .colab-df-convert:hover {\n",
              "      background-color: #434B5C;\n",
              "      box-shadow: 0px 1px 3px 1px rgba(0, 0, 0, 0.15);\n",
              "      filter: drop-shadow(0px 1px 2px rgba(0, 0, 0, 0.3));\n",
              "      fill: #FFFFFF;\n",
              "    }\n",
              "  </style>\n",
              "\n",
              "      <script>\n",
              "        const buttonEl =\n",
              "          document.querySelector('#df-e4756e6f-9c2e-4aee-9d26-f866cd8b60bc button.colab-df-convert');\n",
              "        buttonEl.style.display =\n",
              "          google.colab.kernel.accessAllowed ? 'block' : 'none';\n",
              "\n",
              "        async function convertToInteractive(key) {\n",
              "          const element = document.querySelector('#df-e4756e6f-9c2e-4aee-9d26-f866cd8b60bc');\n",
              "          const dataTable =\n",
              "            await google.colab.kernel.invokeFunction('convertToInteractive',\n",
              "                                                     [key], {});\n",
              "          if (!dataTable) return;\n",
              "\n",
              "          const docLinkHtml = 'Like what you see? Visit the ' +\n",
              "            '<a target=\"_blank\" href=https://colab.research.google.com/notebooks/data_table.ipynb>data table notebook</a>'\n",
              "            + ' to learn more about interactive tables.';\n",
              "          element.innerHTML = '';\n",
              "          dataTable['output_type'] = 'display_data';\n",
              "          await google.colab.output.renderOutput(dataTable, element);\n",
              "          const docLink = document.createElement('div');\n",
              "          docLink.innerHTML = docLinkHtml;\n",
              "          element.appendChild(docLink);\n",
              "        }\n",
              "      </script>\n",
              "    </div>\n",
              "  </div>\n",
              "  "
            ]
          },
          "metadata": {},
          "execution_count": 7
        }
      ],
      "source": [
        "# Afficher les statistiques descriptives de l'ensemble des données\n",
        "df_diabetes.describe()"
      ]
    },
    {
      "cell_type": "code",
      "execution_count": null,
      "metadata": {
        "id": "7j-mngxWwJ63",
        "colab": {
          "base_uri": "https://localhost:8080/",
          "height": 424
        },
        "outputId": "c8f5d85b-b27e-4798-ee97-de34c2d301ef"
      },
      "outputs": [
        {
          "output_type": "execute_result",
          "data": {
            "text/plain": [
              "     Pregnancies  Glucose  BloodPressure  SkinThickness  Insulin    BMI  \\\n",
              "0          False    False          False          False    False  False   \n",
              "1          False    False          False          False    False  False   \n",
              "2          False    False          False          False    False  False   \n",
              "3          False    False          False          False    False  False   \n",
              "4          False    False          False          False    False  False   \n",
              "..           ...      ...            ...            ...      ...    ...   \n",
              "762        False    False          False          False    False  False   \n",
              "763        False    False          False          False    False  False   \n",
              "764        False    False          False          False    False  False   \n",
              "765        False    False          False          False    False  False   \n",
              "766        False    False          False          False    False  False   \n",
              "\n",
              "     DiabetesPedigreeFunction    Age  Outcome  \n",
              "0                       False  False    False  \n",
              "1                       False  False    False  \n",
              "2                       False  False    False  \n",
              "3                       False  False    False  \n",
              "4                       False  False    False  \n",
              "..                        ...    ...      ...  \n",
              "762                     False  False    False  \n",
              "763                     False  False    False  \n",
              "764                     False  False    False  \n",
              "765                     False  False    False  \n",
              "766                     False  False    False  \n",
              "\n",
              "[767 rows x 9 columns]"
            ],
            "text/html": [
              "\n",
              "  <div id=\"df-57a05bdd-5d36-48bb-ada5-cf2db8b4dd7d\">\n",
              "    <div class=\"colab-df-container\">\n",
              "      <div>\n",
              "<style scoped>\n",
              "    .dataframe tbody tr th:only-of-type {\n",
              "        vertical-align: middle;\n",
              "    }\n",
              "\n",
              "    .dataframe tbody tr th {\n",
              "        vertical-align: top;\n",
              "    }\n",
              "\n",
              "    .dataframe thead th {\n",
              "        text-align: right;\n",
              "    }\n",
              "</style>\n",
              "<table border=\"1\" class=\"dataframe\">\n",
              "  <thead>\n",
              "    <tr style=\"text-align: right;\">\n",
              "      <th></th>\n",
              "      <th>Pregnancies</th>\n",
              "      <th>Glucose</th>\n",
              "      <th>BloodPressure</th>\n",
              "      <th>SkinThickness</th>\n",
              "      <th>Insulin</th>\n",
              "      <th>BMI</th>\n",
              "      <th>DiabetesPedigreeFunction</th>\n",
              "      <th>Age</th>\n",
              "      <th>Outcome</th>\n",
              "    </tr>\n",
              "  </thead>\n",
              "  <tbody>\n",
              "    <tr>\n",
              "      <th>0</th>\n",
              "      <td>False</td>\n",
              "      <td>False</td>\n",
              "      <td>False</td>\n",
              "      <td>False</td>\n",
              "      <td>False</td>\n",
              "      <td>False</td>\n",
              "      <td>False</td>\n",
              "      <td>False</td>\n",
              "      <td>False</td>\n",
              "    </tr>\n",
              "    <tr>\n",
              "      <th>1</th>\n",
              "      <td>False</td>\n",
              "      <td>False</td>\n",
              "      <td>False</td>\n",
              "      <td>False</td>\n",
              "      <td>False</td>\n",
              "      <td>False</td>\n",
              "      <td>False</td>\n",
              "      <td>False</td>\n",
              "      <td>False</td>\n",
              "    </tr>\n",
              "    <tr>\n",
              "      <th>2</th>\n",
              "      <td>False</td>\n",
              "      <td>False</td>\n",
              "      <td>False</td>\n",
              "      <td>False</td>\n",
              "      <td>False</td>\n",
              "      <td>False</td>\n",
              "      <td>False</td>\n",
              "      <td>False</td>\n",
              "      <td>False</td>\n",
              "    </tr>\n",
              "    <tr>\n",
              "      <th>3</th>\n",
              "      <td>False</td>\n",
              "      <td>False</td>\n",
              "      <td>False</td>\n",
              "      <td>False</td>\n",
              "      <td>False</td>\n",
              "      <td>False</td>\n",
              "      <td>False</td>\n",
              "      <td>False</td>\n",
              "      <td>False</td>\n",
              "    </tr>\n",
              "    <tr>\n",
              "      <th>4</th>\n",
              "      <td>False</td>\n",
              "      <td>False</td>\n",
              "      <td>False</td>\n",
              "      <td>False</td>\n",
              "      <td>False</td>\n",
              "      <td>False</td>\n",
              "      <td>False</td>\n",
              "      <td>False</td>\n",
              "      <td>False</td>\n",
              "    </tr>\n",
              "    <tr>\n",
              "      <th>...</th>\n",
              "      <td>...</td>\n",
              "      <td>...</td>\n",
              "      <td>...</td>\n",
              "      <td>...</td>\n",
              "      <td>...</td>\n",
              "      <td>...</td>\n",
              "      <td>...</td>\n",
              "      <td>...</td>\n",
              "      <td>...</td>\n",
              "    </tr>\n",
              "    <tr>\n",
              "      <th>762</th>\n",
              "      <td>False</td>\n",
              "      <td>False</td>\n",
              "      <td>False</td>\n",
              "      <td>False</td>\n",
              "      <td>False</td>\n",
              "      <td>False</td>\n",
              "      <td>False</td>\n",
              "      <td>False</td>\n",
              "      <td>False</td>\n",
              "    </tr>\n",
              "    <tr>\n",
              "      <th>763</th>\n",
              "      <td>False</td>\n",
              "      <td>False</td>\n",
              "      <td>False</td>\n",
              "      <td>False</td>\n",
              "      <td>False</td>\n",
              "      <td>False</td>\n",
              "      <td>False</td>\n",
              "      <td>False</td>\n",
              "      <td>False</td>\n",
              "    </tr>\n",
              "    <tr>\n",
              "      <th>764</th>\n",
              "      <td>False</td>\n",
              "      <td>False</td>\n",
              "      <td>False</td>\n",
              "      <td>False</td>\n",
              "      <td>False</td>\n",
              "      <td>False</td>\n",
              "      <td>False</td>\n",
              "      <td>False</td>\n",
              "      <td>False</td>\n",
              "    </tr>\n",
              "    <tr>\n",
              "      <th>765</th>\n",
              "      <td>False</td>\n",
              "      <td>False</td>\n",
              "      <td>False</td>\n",
              "      <td>False</td>\n",
              "      <td>False</td>\n",
              "      <td>False</td>\n",
              "      <td>False</td>\n",
              "      <td>False</td>\n",
              "      <td>False</td>\n",
              "    </tr>\n",
              "    <tr>\n",
              "      <th>766</th>\n",
              "      <td>False</td>\n",
              "      <td>False</td>\n",
              "      <td>False</td>\n",
              "      <td>False</td>\n",
              "      <td>False</td>\n",
              "      <td>False</td>\n",
              "      <td>False</td>\n",
              "      <td>False</td>\n",
              "      <td>False</td>\n",
              "    </tr>\n",
              "  </tbody>\n",
              "</table>\n",
              "<p>767 rows × 9 columns</p>\n",
              "</div>\n",
              "      <button class=\"colab-df-convert\" onclick=\"convertToInteractive('df-57a05bdd-5d36-48bb-ada5-cf2db8b4dd7d')\"\n",
              "              title=\"Convert this dataframe to an interactive table.\"\n",
              "              style=\"display:none;\">\n",
              "        \n",
              "  <svg xmlns=\"http://www.w3.org/2000/svg\" height=\"24px\"viewBox=\"0 0 24 24\"\n",
              "       width=\"24px\">\n",
              "    <path d=\"M0 0h24v24H0V0z\" fill=\"none\"/>\n",
              "    <path d=\"M18.56 5.44l.94 2.06.94-2.06 2.06-.94-2.06-.94-.94-2.06-.94 2.06-2.06.94zm-11 1L8.5 8.5l.94-2.06 2.06-.94-2.06-.94L8.5 2.5l-.94 2.06-2.06.94zm10 10l.94 2.06.94-2.06 2.06-.94-2.06-.94-.94-2.06-.94 2.06-2.06.94z\"/><path d=\"M17.41 7.96l-1.37-1.37c-.4-.4-.92-.59-1.43-.59-.52 0-1.04.2-1.43.59L10.3 9.45l-7.72 7.72c-.78.78-.78 2.05 0 2.83L4 21.41c.39.39.9.59 1.41.59.51 0 1.02-.2 1.41-.59l7.78-7.78 2.81-2.81c.8-.78.8-2.07 0-2.86zM5.41 20L4 18.59l7.72-7.72 1.47 1.35L5.41 20z\"/>\n",
              "  </svg>\n",
              "      </button>\n",
              "      \n",
              "  <style>\n",
              "    .colab-df-container {\n",
              "      display:flex;\n",
              "      flex-wrap:wrap;\n",
              "      gap: 12px;\n",
              "    }\n",
              "\n",
              "    .colab-df-convert {\n",
              "      background-color: #E8F0FE;\n",
              "      border: none;\n",
              "      border-radius: 50%;\n",
              "      cursor: pointer;\n",
              "      display: none;\n",
              "      fill: #1967D2;\n",
              "      height: 32px;\n",
              "      padding: 0 0 0 0;\n",
              "      width: 32px;\n",
              "    }\n",
              "\n",
              "    .colab-df-convert:hover {\n",
              "      background-color: #E2EBFA;\n",
              "      box-shadow: 0px 1px 2px rgba(60, 64, 67, 0.3), 0px 1px 3px 1px rgba(60, 64, 67, 0.15);\n",
              "      fill: #174EA6;\n",
              "    }\n",
              "\n",
              "    [theme=dark] .colab-df-convert {\n",
              "      background-color: #3B4455;\n",
              "      fill: #D2E3FC;\n",
              "    }\n",
              "\n",
              "    [theme=dark] .colab-df-convert:hover {\n",
              "      background-color: #434B5C;\n",
              "      box-shadow: 0px 1px 3px 1px rgba(0, 0, 0, 0.15);\n",
              "      filter: drop-shadow(0px 1px 2px rgba(0, 0, 0, 0.3));\n",
              "      fill: #FFFFFF;\n",
              "    }\n",
              "  </style>\n",
              "\n",
              "      <script>\n",
              "        const buttonEl =\n",
              "          document.querySelector('#df-57a05bdd-5d36-48bb-ada5-cf2db8b4dd7d button.colab-df-convert');\n",
              "        buttonEl.style.display =\n",
              "          google.colab.kernel.accessAllowed ? 'block' : 'none';\n",
              "\n",
              "        async function convertToInteractive(key) {\n",
              "          const element = document.querySelector('#df-57a05bdd-5d36-48bb-ada5-cf2db8b4dd7d');\n",
              "          const dataTable =\n",
              "            await google.colab.kernel.invokeFunction('convertToInteractive',\n",
              "                                                     [key], {});\n",
              "          if (!dataTable) return;\n",
              "\n",
              "          const docLinkHtml = 'Like what you see? Visit the ' +\n",
              "            '<a target=\"_blank\" href=https://colab.research.google.com/notebooks/data_table.ipynb>data table notebook</a>'\n",
              "            + ' to learn more about interactive tables.';\n",
              "          element.innerHTML = '';\n",
              "          dataTable['output_type'] = 'display_data';\n",
              "          await google.colab.output.renderOutput(dataTable, element);\n",
              "          const docLink = document.createElement('div');\n",
              "          docLink.innerHTML = docLinkHtml;\n",
              "          element.appendChild(docLink);\n",
              "        }\n",
              "      </script>\n",
              "    </div>\n",
              "  </div>\n",
              "  "
            ]
          },
          "metadata": {},
          "execution_count": 8
        }
      ],
      "source": [
        "# Savoir si notre ensemble de données contient des valeurs nulles ou non\n",
        "df_diabetes.isnull()"
      ]
    },
    {
      "cell_type": "code",
      "execution_count": null,
      "metadata": {
        "id": "XxolA3lTwftj",
        "colab": {
          "base_uri": "https://localhost:8080/"
        },
        "outputId": "2a97b7a0-27e4-49f7-df11-8b9d946c5bb4"
      },
      "outputs": [
        {
          "output_type": "execute_result",
          "data": {
            "text/plain": [
              "Pregnancies                 0\n",
              "Glucose                     0\n",
              "BloodPressure               0\n",
              "SkinThickness               0\n",
              "Insulin                     0\n",
              "BMI                         0\n",
              "DiabetesPedigreeFunction    0\n",
              "Age                         0\n",
              "Outcome                     0\n",
              "dtype: int64"
            ]
          },
          "metadata": {},
          "execution_count": 9
        }
      ],
      "source": [
        "# le nombre de valeurs nulles de notre jeu de données.\n",
        "df_diabetes.isnull().sum()"
      ]
    },
    {
      "cell_type": "markdown",
      "metadata": {
        "id": "7MWFPU4ExxmP"
      },
      "source": [
        "Ici, à partir du code ci-dessus, nous avons d'abord vérifié s'il y avait des valeurs nulles avec la fonction IsNull() , puis nous avons pris la somme de toutes ces valeurs manquantes de la fonction sum() et le résultat que nous obtenons maintenant est qu'il n'y a pas valeurs manquantes, mais ce n'est en fait pas une vraie car dans cet ensemble de données particulier, toutes les valeurs manquantes ont reçu le 0 comme valeur. Par conséquent, nous remplacerons d'abord la valeur 0 par la valeur NAN, puis nous recommencerons le processus."
      ]
    },
    {
      "cell_type": "code",
      "execution_count": null,
      "metadata": {
        "id": "mgAtVQUry0y3"
      },
      "outputs": [],
      "source": [
        "# Nous allons créer une copie des données et des indices de l'objet appelant.\n",
        "# Les modifications apportées aux données ou aux indices de la copie ne seront pas reflétées dans l'objet d'origine \n",
        "df_diabetes_copy = df_diabetes.copy(deep = True) "
      ]
    },
    {
      "cell_type": "code",
      "execution_count": null,
      "metadata": {
        "id": "X-1LoIJ5AaL5",
        "colab": {
          "base_uri": "https://localhost:8080/",
          "height": 206
        },
        "outputId": "0129a1c8-6bbb-4f8e-f3ee-db5d8e84d581"
      },
      "outputs": [
        {
          "output_type": "execute_result",
          "data": {
            "text/plain": [
              "   Pregnancies  Glucose  BloodPressure  SkinThickness  Insulin   BMI  \\\n",
              "0            1     85.0           66.0           29.0      NaN  26.6   \n",
              "1            8    183.0           64.0            NaN      NaN  23.3   \n",
              "2            1     89.0           66.0           23.0     94.0  28.1   \n",
              "3            0    137.0           40.0           35.0    168.0  43.1   \n",
              "4            5    116.0           74.0            NaN      NaN  25.6   \n",
              "\n",
              "   DiabetesPedigreeFunction  Age  Outcome  \n",
              "0                     0.351   31        0  \n",
              "1                     0.672   32        1  \n",
              "2                     0.167   21        0  \n",
              "3                     2.288   33        1  \n",
              "4                     0.201   30        0  "
            ],
            "text/html": [
              "\n",
              "  <div id=\"df-a32bf996-9b7d-498f-8d0a-30767c163824\">\n",
              "    <div class=\"colab-df-container\">\n",
              "      <div>\n",
              "<style scoped>\n",
              "    .dataframe tbody tr th:only-of-type {\n",
              "        vertical-align: middle;\n",
              "    }\n",
              "\n",
              "    .dataframe tbody tr th {\n",
              "        vertical-align: top;\n",
              "    }\n",
              "\n",
              "    .dataframe thead th {\n",
              "        text-align: right;\n",
              "    }\n",
              "</style>\n",
              "<table border=\"1\" class=\"dataframe\">\n",
              "  <thead>\n",
              "    <tr style=\"text-align: right;\">\n",
              "      <th></th>\n",
              "      <th>Pregnancies</th>\n",
              "      <th>Glucose</th>\n",
              "      <th>BloodPressure</th>\n",
              "      <th>SkinThickness</th>\n",
              "      <th>Insulin</th>\n",
              "      <th>BMI</th>\n",
              "      <th>DiabetesPedigreeFunction</th>\n",
              "      <th>Age</th>\n",
              "      <th>Outcome</th>\n",
              "    </tr>\n",
              "  </thead>\n",
              "  <tbody>\n",
              "    <tr>\n",
              "      <th>0</th>\n",
              "      <td>1</td>\n",
              "      <td>85.0</td>\n",
              "      <td>66.0</td>\n",
              "      <td>29.0</td>\n",
              "      <td>NaN</td>\n",
              "      <td>26.6</td>\n",
              "      <td>0.351</td>\n",
              "      <td>31</td>\n",
              "      <td>0</td>\n",
              "    </tr>\n",
              "    <tr>\n",
              "      <th>1</th>\n",
              "      <td>8</td>\n",
              "      <td>183.0</td>\n",
              "      <td>64.0</td>\n",
              "      <td>NaN</td>\n",
              "      <td>NaN</td>\n",
              "      <td>23.3</td>\n",
              "      <td>0.672</td>\n",
              "      <td>32</td>\n",
              "      <td>1</td>\n",
              "    </tr>\n",
              "    <tr>\n",
              "      <th>2</th>\n",
              "      <td>1</td>\n",
              "      <td>89.0</td>\n",
              "      <td>66.0</td>\n",
              "      <td>23.0</td>\n",
              "      <td>94.0</td>\n",
              "      <td>28.1</td>\n",
              "      <td>0.167</td>\n",
              "      <td>21</td>\n",
              "      <td>0</td>\n",
              "    </tr>\n",
              "    <tr>\n",
              "      <th>3</th>\n",
              "      <td>0</td>\n",
              "      <td>137.0</td>\n",
              "      <td>40.0</td>\n",
              "      <td>35.0</td>\n",
              "      <td>168.0</td>\n",
              "      <td>43.1</td>\n",
              "      <td>2.288</td>\n",
              "      <td>33</td>\n",
              "      <td>1</td>\n",
              "    </tr>\n",
              "    <tr>\n",
              "      <th>4</th>\n",
              "      <td>5</td>\n",
              "      <td>116.0</td>\n",
              "      <td>74.0</td>\n",
              "      <td>NaN</td>\n",
              "      <td>NaN</td>\n",
              "      <td>25.6</td>\n",
              "      <td>0.201</td>\n",
              "      <td>30</td>\n",
              "      <td>0</td>\n",
              "    </tr>\n",
              "  </tbody>\n",
              "</table>\n",
              "</div>\n",
              "      <button class=\"colab-df-convert\" onclick=\"convertToInteractive('df-a32bf996-9b7d-498f-8d0a-30767c163824')\"\n",
              "              title=\"Convert this dataframe to an interactive table.\"\n",
              "              style=\"display:none;\">\n",
              "        \n",
              "  <svg xmlns=\"http://www.w3.org/2000/svg\" height=\"24px\"viewBox=\"0 0 24 24\"\n",
              "       width=\"24px\">\n",
              "    <path d=\"M0 0h24v24H0V0z\" fill=\"none\"/>\n",
              "    <path d=\"M18.56 5.44l.94 2.06.94-2.06 2.06-.94-2.06-.94-.94-2.06-.94 2.06-2.06.94zm-11 1L8.5 8.5l.94-2.06 2.06-.94-2.06-.94L8.5 2.5l-.94 2.06-2.06.94zm10 10l.94 2.06.94-2.06 2.06-.94-2.06-.94-.94-2.06-.94 2.06-2.06.94z\"/><path d=\"M17.41 7.96l-1.37-1.37c-.4-.4-.92-.59-1.43-.59-.52 0-1.04.2-1.43.59L10.3 9.45l-7.72 7.72c-.78.78-.78 2.05 0 2.83L4 21.41c.39.39.9.59 1.41.59.51 0 1.02-.2 1.41-.59l7.78-7.78 2.81-2.81c.8-.78.8-2.07 0-2.86zM5.41 20L4 18.59l7.72-7.72 1.47 1.35L5.41 20z\"/>\n",
              "  </svg>\n",
              "      </button>\n",
              "      \n",
              "  <style>\n",
              "    .colab-df-container {\n",
              "      display:flex;\n",
              "      flex-wrap:wrap;\n",
              "      gap: 12px;\n",
              "    }\n",
              "\n",
              "    .colab-df-convert {\n",
              "      background-color: #E8F0FE;\n",
              "      border: none;\n",
              "      border-radius: 50%;\n",
              "      cursor: pointer;\n",
              "      display: none;\n",
              "      fill: #1967D2;\n",
              "      height: 32px;\n",
              "      padding: 0 0 0 0;\n",
              "      width: 32px;\n",
              "    }\n",
              "\n",
              "    .colab-df-convert:hover {\n",
              "      background-color: #E2EBFA;\n",
              "      box-shadow: 0px 1px 2px rgba(60, 64, 67, 0.3), 0px 1px 3px 1px rgba(60, 64, 67, 0.15);\n",
              "      fill: #174EA6;\n",
              "    }\n",
              "\n",
              "    [theme=dark] .colab-df-convert {\n",
              "      background-color: #3B4455;\n",
              "      fill: #D2E3FC;\n",
              "    }\n",
              "\n",
              "    [theme=dark] .colab-df-convert:hover {\n",
              "      background-color: #434B5C;\n",
              "      box-shadow: 0px 1px 3px 1px rgba(0, 0, 0, 0.15);\n",
              "      filter: drop-shadow(0px 1px 2px rgba(0, 0, 0, 0.3));\n",
              "      fill: #FFFFFF;\n",
              "    }\n",
              "  </style>\n",
              "\n",
              "      <script>\n",
              "        const buttonEl =\n",
              "          document.querySelector('#df-a32bf996-9b7d-498f-8d0a-30767c163824 button.colab-df-convert');\n",
              "        buttonEl.style.display =\n",
              "          google.colab.kernel.accessAllowed ? 'block' : 'none';\n",
              "\n",
              "        async function convertToInteractive(key) {\n",
              "          const element = document.querySelector('#df-a32bf996-9b7d-498f-8d0a-30767c163824');\n",
              "          const dataTable =\n",
              "            await google.colab.kernel.invokeFunction('convertToInteractive',\n",
              "                                                     [key], {});\n",
              "          if (!dataTable) return;\n",
              "\n",
              "          const docLinkHtml = 'Like what you see? Visit the ' +\n",
              "            '<a target=\"_blank\" href=https://colab.research.google.com/notebooks/data_table.ipynb>data table notebook</a>'\n",
              "            + ' to learn more about interactive tables.';\n",
              "          element.innerHTML = '';\n",
              "          dataTable['output_type'] = 'display_data';\n",
              "          await google.colab.output.renderOutput(dataTable, element);\n",
              "          const docLink = document.createElement('div');\n",
              "          docLink.innerHTML = docLinkHtml;\n",
              "          element.appendChild(docLink);\n",
              "        }\n",
              "      </script>\n",
              "    </div>\n",
              "  </div>\n",
              "  "
            ]
          },
          "metadata": {},
          "execution_count": 11
        }
      ],
      "source": [
        "# Nous choisissons seulement les colonnes qui peuvent avoir des valeurs nulles\n",
        "# Nous remplaçons les valeurs 0 de ces colonnes choisis par des valeurs manquantes NAN\n",
        "df_diabetes_copy[['Glucose','BloodPressure','SkinThickness', 'Insulin','BMI']] = df_diabetes_copy[['Glucose','BloodPressure','SkinThickness', 'Insulin','BMI']].replace(0,np.NaN)\n",
        "\n",
        "df_diabetes_copy.head()"
      ]
    },
    {
      "cell_type": "code",
      "execution_count": null,
      "metadata": {
        "id": "7se4YdKpz89n",
        "colab": {
          "base_uri": "https://localhost:8080/"
        },
        "outputId": "6ab288a7-bb24-4235-d987-d5b0be46a2ee"
      },
      "outputs": [
        {
          "output_type": "stream",
          "name": "stdout",
          "text": [
            "Pregnancies                   0\n",
            "Glucose                       5\n",
            "BloodPressure                35\n",
            "SkinThickness               227\n",
            "Insulin                     373\n",
            "BMI                          11\n",
            "DiabetesPedigreeFunction      0\n",
            "Age                           0\n",
            "Outcome                       0\n",
            "dtype: int64\n"
          ]
        }
      ],
      "source": [
        "# Afficher le nombre des valeurs NAN pour chaque colonne\n",
        "print(df_diabetes_copy.isna().sum())"
      ]
    },
    {
      "cell_type": "markdown",
      "metadata": {
        "id": "IaorfMqLDPko"
      },
      "source": [
        "#### **<font style=\"color:rgb(134,19,348)\">=> Visualisation des données</font>**"
      ]
    },
    {
      "cell_type": "code",
      "execution_count": null,
      "metadata": {
        "id": "Uq1Zi7I4sIMU",
        "colab": {
          "base_uri": "https://localhost:8080/",
          "height": 937
        },
        "outputId": "8b2ed700-8d1e-43b8-c428-26b614fb2b26"
      },
      "outputs": [
        {
          "output_type": "display_data",
          "data": {
            "text/plain": [
              "<Figure size 1440x1440 with 9 Axes>"
            ],
            "image/png": "[encoded data removed]"
          },
          "metadata": {
            "needs_background": "light"
          }
        }
      ],
      "source": [
        "# Tracer une représentation de la distribution des données. \n",
        "# Tracer un histogramme pour chaque série du DataFrame, ce qui donne un histogramme par colonne.\n",
        "p = df_diabetes.hist(figsize = (20,20))"
      ]
    },
    {
      "cell_type": "code",
      "execution_count": null,
      "metadata": {
        "id": "WT7nJg2QEJg2"
      },
      "outputs": [],
      "source": [
        "# Remplacer les valeurs NAN de la colonne 'Glucose' par la valeur moyenne de cette colonne particulière\n",
        "df_diabetes_copy['Glucose'].fillna(df_diabetes_copy['Glucose'].mean(), inplace = True) \n",
        "\n",
        "# Remplacer les valeurs NAN de la colonne 'BloodPressure' par la valeur moyenne de cette colonne particulière\n",
        "df_diabetes_copy['BloodPressure'].fillna(df_diabetes_copy['BloodPressure'].mean(), inplace = True) \n",
        "\n",
        "# Remplacer les valeurs NAN de la colonne 'SkinThickness' par la valeur médianne de cette colonne particulière\n",
        "df_diabetes_copy[ 'SkinThickness'].fillna(df_diabetes_copy['SkinThickness'].median(), inplace = True) \n",
        "\n",
        "# Remplacer les valeurs NAN de la colonne 'Insulin' par la valeur médianne de cette colonne particulière\n",
        "df_diabetes_copy['Insulin'].fillna(df_diabetes_copy['Insulin'].median(), inplace = True) \n",
        "\n",
        "# Remplacer les valeurs NAN de la colonne 'BMI' par la valeur médianne de cette colonne particulière\n",
        "df_diabetes_copy['BMI'].fillna(df_diabetes_copy['BMI'].median(), inplace = True)"
      ]
    },
    {
      "cell_type": "markdown",
      "metadata": {
        "id": "NjPZZN9kKYPP"
      },
      "source": [
        "Maintenant nous allons utiliser à nouveau le graphique hist pour voir la distribution de l'ensemble de données , mais cette fois, nous nous allons utiliser cette visualisation pour voir les changements que nous pouvons voir après la suppression de ces valeurs nulles de l'ensemble de données "
      ]
    },
    {
      "cell_type": "code",
      "execution_count": null,
      "metadata": {
        "id": "QxGy2dpZAvCv",
        "colab": {
          "base_uri": "https://localhost:8080/",
          "height": 941
        },
        "outputId": "40a194a5-8ac4-424e-a5bf-c94e5f78e87d"
      },
      "outputs": [
        {
          "output_type": "display_data",
          "data": {
            "text/plain": [
              "<Figure size 1440x1440 with 9 Axes>"
            ],
            "image/png": "[encoded data removed]"
          },
          "metadata": {
            "needs_background": "light"
          }
        }
      ],
      "source": [
        "# Tracer les distributions après avoir supprimé les valeurs NAN.\n",
        "p = df_diabetes_copy.hist(figsize = (20,20))"
      ]
    },
    {
      "cell_type": "markdown",
      "metadata": {
        "id": "mqLrsSr0Mnm1"
      },
      "source": [
        "Maintenant, vérifions à quel point notre colonne 'Outcome' est équilibrée"
      ]
    },
    {
      "cell_type": "code",
      "execution_count": null,
      "metadata": {
        "id": "ma9xQPLYKvar",
        "colab": {
          "base_uri": "https://localhost:8080/",
          "height": 317
        },
        "outputId": "a0d070f4-d40d-49e8-c894-8a8c8bc296e1"
      },
      "outputs": [
        {
          "output_type": "stream",
          "name": "stdout",
          "text": [
            "0    500\n",
            "1    267\n",
            "Name: Outcome, dtype: int64\n"
          ]
        },
        {
          "output_type": "display_data",
          "data": {
            "text/plain": [
              "<Figure size 432x288 with 1 Axes>"
            ],
            "image/png": "[encoded data removed]"
          },
          "metadata": {
            "needs_background": "light"
          }
        }
      ],
      "source": [
        "# Renvoie une série contenant le nombre de lignes uniques de la colonne 'Outcome'\n",
        "print(df_diabetes.Outcome.value_counts()) \n",
        "\n",
        "# Tracer un graphique à barres qui montre les comparaisons entre les valeurs uniques de la colonne 'Outcome' \n",
        "p = df_diabetes.Outcome.value_counts().plot(kind=\"bar\")"
      ]
    },
    {
      "cell_type": "markdown",
      "metadata": {
        "id": "r9Q905fnMiNQ"
      },
      "source": [
        "Ici, à partir de la visualisation ci-dessus, il est clairement visible que notre ensemble de données est complètement déséquilibré en fait, le nombre de patients diabétiques est la moitié des patients non diabétiques."
      ]
    },
    {
      "cell_type": "markdown",
      "metadata": {
        "id": "Nfa-h_IgV1Pw"
      },
      "source": [
        "###  **Corrélation entre toutes les features**\n",
        "\n",
        "###  Avant nettoyage :"
      ]
    },
    {
      "cell_type": "code",
      "execution_count": null,
      "metadata": {
        "id": "axwnXddcXQHY",
        "colab": {
          "base_uri": "https://localhost:8080/",
          "height": 733
        },
        "outputId": "24ee8028-54c0-42c8-d30c-efa7e15f3841"
      },
      "outputs": [
        {
          "output_type": "display_data",
          "data": {
            "text/plain": [
              "<Figure size 864x720 with 2 Axes>"
            ],
            "image/png": "[encoded data removed]"
          },
          "metadata": {
            "needs_background": "light"
          }
        }
      ],
      "source": [
        "# Régler la taille de la figure sur 12 par 10.\n",
        "plt.figure(figsize=(12,10))\n",
        "\n",
        "# seaborn a une méthode simple pour présenter heatmap\n",
        "p = sns.heatmap(df_diabetes.corr(), annot=True,cmap ='RdYlGn')"
      ]
    },
    {
      "cell_type": "markdown",
      "metadata": {
        "id": "-3S_9-ttYHPp"
      },
      "source": [
        "###  Après nettoyage :"
      ]
    },
    {
      "cell_type": "code",
      "execution_count": null,
      "metadata": {
        "id": "D9CgIXz-YHP6",
        "colab": {
          "base_uri": "https://localhost:8080/",
          "height": 733
        },
        "outputId": "0b5b0b5b-681d-43e6-b3d3-8259dc40a141"
      },
      "outputs": [
        {
          "output_type": "display_data",
          "data": {
            "text/plain": [
              "<Figure size 864x720 with 2 Axes>"
            ],
            "image/png": "[encoded data removed]"
          },
          "metadata": {
            "needs_background": "light"
          }
        }
      ],
      "source": [
        "# Régler la taille de la figure sur 12 par 10.\n",
        "plt.figure(figsize=(12,10))\n",
        "\n",
        "# seaborn a une méthode simple pour présenter heatmap\n",
        "p = sns.heatmap(df_diabetes_copy.corr(), annot=True,cmap ='RdYlGn')"
      ]
    },
    {
      "cell_type": "markdown",
      "metadata": {
        "id": "iMXt4IpqFuA4"
      },
      "source": [
        "#### **<font style=\"color:rgb(134,19,348)\">=> Préparation de l'ensemble de données </font>**"
      ]
    },
    {
      "cell_type": "markdown",
      "metadata": {
        "id": "qLnIRw8kc-0I"
      },
      "source": [
        "### Standardisation des données\n",
        "Les données prétraitées peuvent contenir des attributs avec un mélange d'échelles pour diverses quantités.\n",
        "\n",
        "De nombreuses méthodes d'apprentissage automatique attendent ou sont plus efficaces si les attributs de données ont la même échelle.\n",
        "\n",
        "Deux méthodes de mise à l'échelle des données populaires sont la normalisation et la standardisation.\n",
        "\n",
        "- La normalisation fait référence à la remise à l'échelle des attributs numériques à valeur réelle dans la plage 0 et 1.\n",
        "\n",
        "- La standardisation fait référence au déplacement de la distribution de chaque attribut pour avoir une moyenne de zéro et un écart type de un (variance unitaire).\n",
        "\n",
        "### Avant standardisation : "
      ]
    },
    {
      "cell_type": "code",
      "execution_count": null,
      "metadata": {
        "id": "Xf5nHwUTdVhf",
        "colab": {
          "base_uri": "https://localhost:8080/",
          "height": 206
        },
        "outputId": "064ace74-fb31-4940-8ecd-59b7758dde15"
      },
      "outputs": [
        {
          "output_type": "execute_result",
          "data": {
            "text/plain": [
              "   Pregnancies  Glucose  BloodPressure  SkinThickness  Insulin   BMI  \\\n",
              "0            1     85.0           66.0           29.0    125.0  26.6   \n",
              "1            8    183.0           64.0           29.0    125.0  23.3   \n",
              "2            1     89.0           66.0           23.0     94.0  28.1   \n",
              "3            0    137.0           40.0           35.0    168.0  43.1   \n",
              "4            5    116.0           74.0           29.0    125.0  25.6   \n",
              "\n",
              "   DiabetesPedigreeFunction  Age  Outcome  \n",
              "0                     0.351   31        0  \n",
              "1                     0.672   32        1  \n",
              "2                     0.167   21        0  \n",
              "3                     2.288   33        1  \n",
              "4                     0.201   30        0  "
            ],
            "text/html": [
              "\n",
              "  <div id=\"df-9724389d-e172-4838-a427-c8f56278a351\">\n",
              "    <div class=\"colab-df-container\">\n",
              "      <div>\n",
              "<style scoped>\n",
              "    .dataframe tbody tr th:only-of-type {\n",
              "        vertical-align: middle;\n",
              "    }\n",
              "\n",
              "    .dataframe tbody tr th {\n",
              "        vertical-align: top;\n",
              "    }\n",
              "\n",
              "    .dataframe thead th {\n",
              "        text-align: right;\n",
              "    }\n",
              "</style>\n",
              "<table border=\"1\" class=\"dataframe\">\n",
              "  <thead>\n",
              "    <tr style=\"text-align: right;\">\n",
              "      <th></th>\n",
              "      <th>Pregnancies</th>\n",
              "      <th>Glucose</th>\n",
              "      <th>BloodPressure</th>\n",
              "      <th>SkinThickness</th>\n",
              "      <th>Insulin</th>\n",
              "      <th>BMI</th>\n",
              "      <th>DiabetesPedigreeFunction</th>\n",
              "      <th>Age</th>\n",
              "      <th>Outcome</th>\n",
              "    </tr>\n",
              "  </thead>\n",
              "  <tbody>\n",
              "    <tr>\n",
              "      <th>0</th>\n",
              "      <td>1</td>\n",
              "      <td>85.0</td>\n",
              "      <td>66.0</td>\n",
              "      <td>29.0</td>\n",
              "      <td>125.0</td>\n",
              "      <td>26.6</td>\n",
              "      <td>0.351</td>\n",
              "      <td>31</td>\n",
              "      <td>0</td>\n",
              "    </tr>\n",
              "    <tr>\n",
              "      <th>1</th>\n",
              "      <td>8</td>\n",
              "      <td>183.0</td>\n",
              "      <td>64.0</td>\n",
              "      <td>29.0</td>\n",
              "      <td>125.0</td>\n",
              "      <td>23.3</td>\n",
              "      <td>0.672</td>\n",
              "      <td>32</td>\n",
              "      <td>1</td>\n",
              "    </tr>\n",
              "    <tr>\n",
              "      <th>2</th>\n",
              "      <td>1</td>\n",
              "      <td>89.0</td>\n",
              "      <td>66.0</td>\n",
              "      <td>23.0</td>\n",
              "      <td>94.0</td>\n",
              "      <td>28.1</td>\n",
              "      <td>0.167</td>\n",
              "      <td>21</td>\n",
              "      <td>0</td>\n",
              "    </tr>\n",
              "    <tr>\n",
              "      <th>3</th>\n",
              "      <td>0</td>\n",
              "      <td>137.0</td>\n",
              "      <td>40.0</td>\n",
              "      <td>35.0</td>\n",
              "      <td>168.0</td>\n",
              "      <td>43.1</td>\n",
              "      <td>2.288</td>\n",
              "      <td>33</td>\n",
              "      <td>1</td>\n",
              "    </tr>\n",
              "    <tr>\n",
              "      <th>4</th>\n",
              "      <td>5</td>\n",
              "      <td>116.0</td>\n",
              "      <td>74.0</td>\n",
              "      <td>29.0</td>\n",
              "      <td>125.0</td>\n",
              "      <td>25.6</td>\n",
              "      <td>0.201</td>\n",
              "      <td>30</td>\n",
              "      <td>0</td>\n",
              "    </tr>\n",
              "  </tbody>\n",
              "</table>\n",
              "</div>\n",
              "      <button class=\"colab-df-convert\" onclick=\"convertToInteractive('df-9724389d-e172-4838-a427-c8f56278a351')\"\n",
              "              title=\"Convert this dataframe to an interactive table.\"\n",
              "              style=\"display:none;\">\n",
              "        \n",
              "  <svg xmlns=\"http://www.w3.org/2000/svg\" height=\"24px\"viewBox=\"0 0 24 24\"\n",
              "       width=\"24px\">\n",
              "    <path d=\"M0 0h24v24H0V0z\" fill=\"none\"/>\n",
              "    <path d=\"M18.56 5.44l.94 2.06.94-2.06 2.06-.94-2.06-.94-.94-2.06-.94 2.06-2.06.94zm-11 1L8.5 8.5l.94-2.06 2.06-.94-2.06-.94L8.5 2.5l-.94 2.06-2.06.94zm10 10l.94 2.06.94-2.06 2.06-.94-2.06-.94-.94-2.06-.94 2.06-2.06.94z\"/><path d=\"M17.41 7.96l-1.37-1.37c-.4-.4-.92-.59-1.43-.59-.52 0-1.04.2-1.43.59L10.3 9.45l-7.72 7.72c-.78.78-.78 2.05 0 2.83L4 21.41c.39.39.9.59 1.41.59.51 0 1.02-.2 1.41-.59l7.78-7.78 2.81-2.81c.8-.78.8-2.07 0-2.86zM5.41 20L4 18.59l7.72-7.72 1.47 1.35L5.41 20z\"/>\n",
              "  </svg>\n",
              "      </button>\n",
              "      \n",
              "  <style>\n",
              "    .colab-df-container {\n",
              "      display:flex;\n",
              "      flex-wrap:wrap;\n",
              "      gap: 12px;\n",
              "    }\n",
              "\n",
              "    .colab-df-convert {\n",
              "      background-color: #E8F0FE;\n",
              "      border: none;\n",
              "      border-radius: 50%;\n",
              "      cursor: pointer;\n",
              "      display: none;\n",
              "      fill: #1967D2;\n",
              "      height: 32px;\n",
              "      padding: 0 0 0 0;\n",
              "      width: 32px;\n",
              "    }\n",
              "\n",
              "    .colab-df-convert:hover {\n",
              "      background-color: #E2EBFA;\n",
              "      box-shadow: 0px 1px 2px rgba(60, 64, 67, 0.3), 0px 1px 3px 1px rgba(60, 64, 67, 0.15);\n",
              "      fill: #174EA6;\n",
              "    }\n",
              "\n",
              "    [theme=dark] .colab-df-convert {\n",
              "      background-color: #3B4455;\n",
              "      fill: #D2E3FC;\n",
              "    }\n",
              "\n",
              "    [theme=dark] .colab-df-convert:hover {\n",
              "      background-color: #434B5C;\n",
              "      box-shadow: 0px 1px 3px 1px rgba(0, 0, 0, 0.15);\n",
              "      filter: drop-shadow(0px 1px 2px rgba(0, 0, 0, 0.3));\n",
              "      fill: #FFFFFF;\n",
              "    }\n",
              "  </style>\n",
              "\n",
              "      <script>\n",
              "        const buttonEl =\n",
              "          document.querySelector('#df-9724389d-e172-4838-a427-c8f56278a351 button.colab-df-convert');\n",
              "        buttonEl.style.display =\n",
              "          google.colab.kernel.accessAllowed ? 'block' : 'none';\n",
              "\n",
              "        async function convertToInteractive(key) {\n",
              "          const element = document.querySelector('#df-9724389d-e172-4838-a427-c8f56278a351');\n",
              "          const dataTable =\n",
              "            await google.colab.kernel.invokeFunction('convertToInteractive',\n",
              "                                                     [key], {});\n",
              "          if (!dataTable) return;\n",
              "\n",
              "          const docLinkHtml = 'Like what you see? Visit the ' +\n",
              "            '<a target=\"_blank\" href=https://colab.research.google.com/notebooks/data_table.ipynb>data table notebook</a>'\n",
              "            + ' to learn more about interactive tables.';\n",
              "          element.innerHTML = '';\n",
              "          dataTable['output_type'] = 'display_data';\n",
              "          await google.colab.output.renderOutput(dataTable, element);\n",
              "          const docLink = document.createElement('div');\n",
              "          docLink.innerHTML = docLinkHtml;\n",
              "          element.appendChild(docLink);\n",
              "        }\n",
              "      </script>\n",
              "    </div>\n",
              "  </div>\n",
              "  "
            ]
          },
          "metadata": {},
          "execution_count": 19
        }
      ],
      "source": [
        "df_diabetes_copy.head()"
      ]
    },
    {
      "cell_type": "markdown",
      "metadata": {
        "id": "SpCxBpDkdQXp"
      },
      "source": [
        "### Après standardisation : "
      ]
    },
    {
      "cell_type": "code",
      "execution_count": null,
      "metadata": {
        "id": "PKS7OIRlddsW",
        "colab": {
          "base_uri": "https://localhost:8080/",
          "height": 206
        },
        "outputId": "4cb793aa-f73a-40e7-c30e-1cd886787792"
      },
      "outputs": [
        {
          "output_type": "execute_result",
          "data": {
            "text/plain": [
              "   Pregnancies   Glucose   Insulin       BMI  DiabetesPedigreeFunction  \\\n",
              "0    -0.843726 -1.204829 -0.181663 -0.851443                 -0.364265   \n",
              "1     1.234240  2.016619 -0.181663 -1.331439                  0.604701   \n",
              "2    -0.843726 -1.073342 -0.540538 -0.633263                 -0.919684   \n",
              "3    -1.140579  0.504511  0.316130  1.548539                  5.482732   \n",
              "4     0.343683 -0.185800 -0.181663 -0.996897                 -0.817052   \n",
              "\n",
              "        Age  \n",
              "0 -0.188940  \n",
              "1 -0.103795  \n",
              "2 -1.040393  \n",
              "3 -0.018650  \n",
              "4 -0.274086  "
            ],
            "text/html": [
              "\n",
              "  <div id=\"df-c74d8d67-ada4-4e90-bd1d-f21e4251d24f\">\n",
              "    <div class=\"colab-df-container\">\n",
              "      <div>\n",
              "<style scoped>\n",
              "    .dataframe tbody tr th:only-of-type {\n",
              "        vertical-align: middle;\n",
              "    }\n",
              "\n",
              "    .dataframe tbody tr th {\n",
              "        vertical-align: top;\n",
              "    }\n",
              "\n",
              "    .dataframe thead th {\n",
              "        text-align: right;\n",
              "    }\n",
              "</style>\n",
              "<table border=\"1\" class=\"dataframe\">\n",
              "  <thead>\n",
              "    <tr style=\"text-align: right;\">\n",
              "      <th></th>\n",
              "      <th>Pregnancies</th>\n",
              "      <th>Glucose</th>\n",
              "      <th>Insulin</th>\n",
              "      <th>BMI</th>\n",
              "      <th>DiabetesPedigreeFunction</th>\n",
              "      <th>Age</th>\n",
              "    </tr>\n",
              "  </thead>\n",
              "  <tbody>\n",
              "    <tr>\n",
              "      <th>0</th>\n",
              "      <td>-0.843726</td>\n",
              "      <td>-1.204829</td>\n",
              "      <td>-0.181663</td>\n",
              "      <td>-0.851443</td>\n",
              "      <td>-0.364265</td>\n",
              "      <td>-0.188940</td>\n",
              "    </tr>\n",
              "    <tr>\n",
              "      <th>1</th>\n",
              "      <td>1.234240</td>\n",
              "      <td>2.016619</td>\n",
              "      <td>-0.181663</td>\n",
              "      <td>-1.331439</td>\n",
              "      <td>0.604701</td>\n",
              "      <td>-0.103795</td>\n",
              "    </tr>\n",
              "    <tr>\n",
              "      <th>2</th>\n",
              "      <td>-0.843726</td>\n",
              "      <td>-1.073342</td>\n",
              "      <td>-0.540538</td>\n",
              "      <td>-0.633263</td>\n",
              "      <td>-0.919684</td>\n",
              "      <td>-1.040393</td>\n",
              "    </tr>\n",
              "    <tr>\n",
              "      <th>3</th>\n",
              "      <td>-1.140579</td>\n",
              "      <td>0.504511</td>\n",
              "      <td>0.316130</td>\n",
              "      <td>1.548539</td>\n",
              "      <td>5.482732</td>\n",
              "      <td>-0.018650</td>\n",
              "    </tr>\n",
              "    <tr>\n",
              "      <th>4</th>\n",
              "      <td>0.343683</td>\n",
              "      <td>-0.185800</td>\n",
              "      <td>-0.181663</td>\n",
              "      <td>-0.996897</td>\n",
              "      <td>-0.817052</td>\n",
              "      <td>-0.274086</td>\n",
              "    </tr>\n",
              "  </tbody>\n",
              "</table>\n",
              "</div>\n",
              "      <button class=\"colab-df-convert\" onclick=\"convertToInteractive('df-c74d8d67-ada4-4e90-bd1d-f21e4251d24f')\"\n",
              "              title=\"Convert this dataframe to an interactive table.\"\n",
              "              style=\"display:none;\">\n",
              "        \n",
              "  <svg xmlns=\"http://www.w3.org/2000/svg\" height=\"24px\"viewBox=\"0 0 24 24\"\n",
              "       width=\"24px\">\n",
              "    <path d=\"M0 0h24v24H0V0z\" fill=\"none\"/>\n",
              "    <path d=\"M18.56 5.44l.94 2.06.94-2.06 2.06-.94-2.06-.94-.94-2.06-.94 2.06-2.06.94zm-11 1L8.5 8.5l.94-2.06 2.06-.94-2.06-.94L8.5 2.5l-.94 2.06-2.06.94zm10 10l.94 2.06.94-2.06 2.06-.94-2.06-.94-.94-2.06-.94 2.06-2.06.94z\"/><path d=\"M17.41 7.96l-1.37-1.37c-.4-.4-.92-.59-1.43-.59-.52 0-1.04.2-1.43.59L10.3 9.45l-7.72 7.72c-.78.78-.78 2.05 0 2.83L4 21.41c.39.39.9.59 1.41.59.51 0 1.02-.2 1.41-.59l7.78-7.78 2.81-2.81c.8-.78.8-2.07 0-2.86zM5.41 20L4 18.59l7.72-7.72 1.47 1.35L5.41 20z\"/>\n",
              "  </svg>\n",
              "      </button>\n",
              "      \n",
              "  <style>\n",
              "    .colab-df-container {\n",
              "      display:flex;\n",
              "      flex-wrap:wrap;\n",
              "      gap: 12px;\n",
              "    }\n",
              "\n",
              "    .colab-df-convert {\n",
              "      background-color: #E8F0FE;\n",
              "      border: none;\n",
              "      border-radius: 50%;\n",
              "      cursor: pointer;\n",
              "      display: none;\n",
              "      fill: #1967D2;\n",
              "      height: 32px;\n",
              "      padding: 0 0 0 0;\n",
              "      width: 32px;\n",
              "    }\n",
              "\n",
              "    .colab-df-convert:hover {\n",
              "      background-color: #E2EBFA;\n",
              "      box-shadow: 0px 1px 2px rgba(60, 64, 67, 0.3), 0px 1px 3px 1px rgba(60, 64, 67, 0.15);\n",
              "      fill: #174EA6;\n",
              "    }\n",
              "\n",
              "    [theme=dark] .colab-df-convert {\n",
              "      background-color: #3B4455;\n",
              "      fill: #D2E3FC;\n",
              "    }\n",
              "\n",
              "    [theme=dark] .colab-df-convert:hover {\n",
              "      background-color: #434B5C;\n",
              "      box-shadow: 0px 1px 3px 1px rgba(0, 0, 0, 0.15);\n",
              "      filter: drop-shadow(0px 1px 2px rgba(0, 0, 0, 0.3));\n",
              "      fill: #FFFFFF;\n",
              "    }\n",
              "  </style>\n",
              "\n",
              "      <script>\n",
              "        const buttonEl =\n",
              "          document.querySelector('#df-c74d8d67-ada4-4e90-bd1d-f21e4251d24f button.colab-df-convert');\n",
              "        buttonEl.style.display =\n",
              "          google.colab.kernel.accessAllowed ? 'block' : 'none';\n",
              "\n",
              "        async function convertToInteractive(key) {\n",
              "          const element = document.querySelector('#df-c74d8d67-ada4-4e90-bd1d-f21e4251d24f');\n",
              "          const dataTable =\n",
              "            await google.colab.kernel.invokeFunction('convertToInteractive',\n",
              "                                                     [key], {});\n",
              "          if (!dataTable) return;\n",
              "\n",
              "          const docLinkHtml = 'Like what you see? Visit the ' +\n",
              "            '<a target=\"_blank\" href=https://colab.research.google.com/notebooks/data_table.ipynb>data table notebook</a>'\n",
              "            + ' to learn more about interactive tables.';\n",
              "          element.innerHTML = '';\n",
              "          dataTable['output_type'] = 'display_data';\n",
              "          await google.colab.output.renderOutput(dataTable, element);\n",
              "          const docLink = document.createElement('div');\n",
              "          docLink.innerHTML = docLinkHtml;\n",
              "          element.appendChild(docLink);\n",
              "        }\n",
              "      </script>\n",
              "    </div>\n",
              "  </div>\n",
              "  "
            ]
          },
          "metadata": {},
          "execution_count": 70
        }
      ],
      "source": [
        "standardScaler_X = StandardScaler()\n",
        "\n",
        "df_after_standard_scaling_X =  pd.DataFrame(standardScaler_X.fit_transform(df_diabetes_copy.drop([\"Outcome\",  'BloodPressure', 'SkinThickness'],axis = 1),),\n",
        "        columns=['Pregnancies', 'Glucose', 'Insulin',\n",
        "       'BMI', 'DiabetesPedigreeFunction', 'Age'])\n",
        "\n",
        "df_after_standard_scaling_X.head()"
      ]
    },
    {
      "cell_type": "markdown",
      "metadata": {
        "id": "6jni6ALeik19"
      },
      "source": [
        "nous pouvons voir que chaque valeur est maintenant sur la même échelle, ce qui aidera notre modèle ML à donner un meilleur résultat."
      ]
    },
    {
      "cell_type": "code",
      "source": [
        "# Target \n",
        "Y = df_diabetes_copy['Outcome']"
      ],
      "metadata": {
        "id": "Gpm_CyQTcDAb"
      },
      "execution_count": null,
      "outputs": []
    },
    {
      "cell_type": "code",
      "execution_count": null,
      "metadata": {
        "id": "aIxQaA1KF6Z7"
      },
      "outputs": [],
      "source": [
        "from sklearn.model_selection import train_test_split\n",
        "\n",
        "# # Diviser les données en (67 %) d'entrainement et (33 %) de test \n",
        "X_train, X_test, y_train, y_test = train_test_split(df_after_standard_scaling_X, Y, test_size=0.33, random_state=7)"
      ]
    },
    {
      "cell_type": "markdown",
      "metadata": {
        "id": "EXDeDPeEOgNZ"
      },
      "source": [
        "## **<font style=\"color:rgb(134,19,348)\">Step 2: Préparation du modèle Deep Learning</font>** "
      ]
    },
    {
      "cell_type": "code",
      "execution_count": null,
      "metadata": {
        "id": "xaMyNMhHObIP"
      },
      "outputs": [],
      "source": [
        "# Importation de la bibliothèque Keras pour la construction de modèles de Deep Learning\n",
        "from tensorflow.keras.models import Sequential\n",
        "from tensorflow.keras.layers import Dense\n",
        "\n",
        "# Création du modèle Deep Learning\n",
        "model_withoutValidation = Sequential()\n",
        "model_withoutValidation.add(Dense(20, input_dim=6, activation='relu'))\n",
        "model_withoutValidation.add(Dense(20, activation='relu'))\n",
        "model_withoutValidation.add(Dense(20, activation='relu'))\n",
        "model_withoutValidation.add(Dense(1, activation='sigmoid'))"
      ]
    },
    {
      "cell_type": "markdown",
      "metadata": {
        "id": "Hzrnj3tUQOwj"
      },
      "source": [
        "## **<font style=\"color:rgb(134,19,348)\">Step 3: Compilation du modèle Deep Learning</font>** "
      ]
    },
    {
      "cell_type": "markdown",
      "metadata": {
        "id": "iOhE0ZaJSIRv"
      },
      "source": [
        "La compilation d'un modèle de réseau de neurones en Keras est le processus de préparation du modèle pour l'entraînement. La compilation comprend la définition de plusieurs paramètres importants, notamment :\n",
        "\n",
        "* La fonction de coût ou la perte, qui mesure l'erreur du modèle par rapport aux vraies sorties. Il existe plusieurs fonctions de coût couramment utilisées, telles que la somme des erreurs quadratiques (MSE), la log vraisemblance croisée (binary_crossentropy pour la classification binaire et categorical_crossentropy pour la classification multiclasse), etc.\n",
        "\n",
        "* L'optimiseur, qui définit la stratégie d'optimisation pour réduire la fonction de coût pendant l'entraînement. Il existe plusieurs optimiseurs couramment utilisés, tels que Stochastic Gradient Descent (SGD), Adagrad, Adam, etc.\n",
        "\n",
        "* Les métriques, qui sont utilisées pour évaluer les performances du modèle. Certaines métriques couramment utilisées sont Accuracy, Precision ,Recall (or) sensitivity ,Specificity,F1-Score\n",
        ", etc."
      ]
    },
    {
      "cell_type": "code",
      "execution_count": null,
      "metadata": {
        "id": "l3EXcnPmQKtf"
      },
      "outputs": [],
      "source": [
        "model_withoutValidation.compile(loss='binary_crossentropy', optimizer='adam', metrics=['accuracy'])"
      ]
    },
    {
      "cell_type": "markdown",
      "metadata": {
        "id": "VhvvOfzCQT1h"
      },
      "source": [
        "## **<font style=\"color:rgb(134,19,348)\">Step 4: Entrainement du modèle Deep Learning</font>** "
      ]
    },
    {
      "cell_type": "markdown",
      "metadata": {
        "id": "mzbO2lT2WCG1"
      },
      "source": [
        "L'entraînement du modèle consiste à adapter les poids du modèle à l'ensemble de données d'entraînement. Cela se fait en utilisant une fonction de coût et en minimisant cette fonction en utilisant un algorithme d'optimisation tel que Gradient Descent. L'objectif est de minimiser la différence entre les prédictions du modèle et les valeurs réelles pour l'ensemble de données d'entraînement. Après l'entraînement, le modèle peut faire des prédictions sur des données non vues.\n",
        "\n",
        "Pour entraîner un modèle en utilisant Keras, on utilise la méthode \"fit\" de l'objet modèle. Cela prend en entrée l'ensemble de données d'entraînement et les étiquettes cibles associées, ainsi que le nombre d'époques (iterations) et le batch size (nombre d'exemples utilisés pour mettre à jour les poids du modèle à chaque fois)."
      ]
    },
    {
      "cell_type": "code",
      "execution_count": null,
      "metadata": {
        "id": "sx4kTjAXQdHB",
        "colab": {
          "base_uri": "https://localhost:8080/"
        },
        "outputId": "231119a4-b011-4d18-cc47-6ecd626b78e4"
      },
      "outputs": [
        {
          "output_type": "stream",
          "name": "stdout",
          "text": [
            "Epoch 1/50\n",
            "9/9 [==============================] - 0s 4ms/step - loss: 0.4048 - accuracy: 0.7992\n",
            "Epoch 2/50\n",
            "9/9 [==============================] - 0s 5ms/step - loss: 0.4038 - accuracy: 0.7992\n",
            "Epoch 3/50\n",
            "9/9 [==============================] - 0s 5ms/step - loss: 0.4030 - accuracy: 0.7973\n",
            "Epoch 4/50\n",
            "9/9 [==============================] - 0s 3ms/step - loss: 0.4030 - accuracy: 0.8012\n",
            "Epoch 5/50\n",
            "9/9 [==============================] - 0s 6ms/step - loss: 0.4022 - accuracy: 0.8012\n",
            "Epoch 6/50\n",
            "9/9 [==============================] - 0s 3ms/step - loss: 0.4022 - accuracy: 0.8031\n",
            "Epoch 7/50\n",
            "9/9 [==============================] - 0s 3ms/step - loss: 0.4015 - accuracy: 0.7992\n",
            "Epoch 8/50\n",
            "9/9 [==============================] - 0s 3ms/step - loss: 0.4006 - accuracy: 0.7973\n",
            "Epoch 9/50\n",
            "9/9 [==============================] - 0s 3ms/step - loss: 0.3995 - accuracy: 0.7953\n",
            "Epoch 10/50\n",
            "9/9 [==============================] - 0s 5ms/step - loss: 0.3986 - accuracy: 0.7934\n",
            "Epoch 11/50\n",
            "9/9 [==============================] - 0s 4ms/step - loss: 0.3979 - accuracy: 0.7973\n",
            "Epoch 12/50\n",
            "9/9 [==============================] - 0s 7ms/step - loss: 0.3974 - accuracy: 0.7992\n",
            "Epoch 13/50\n",
            "9/9 [==============================] - 0s 8ms/step - loss: 0.3970 - accuracy: 0.8031\n",
            "Epoch 14/50\n",
            "9/9 [==============================] - 0s 5ms/step - loss: 0.3997 - accuracy: 0.8031\n",
            "Epoch 15/50\n",
            "9/9 [==============================] - 0s 3ms/step - loss: 0.3984 - accuracy: 0.8051\n",
            "Epoch 16/50\n",
            "9/9 [==============================] - 0s 6ms/step - loss: 0.3967 - accuracy: 0.8031\n",
            "Epoch 17/50\n",
            "9/9 [==============================] - 0s 3ms/step - loss: 0.3956 - accuracy: 0.8070\n",
            "Epoch 18/50\n",
            "9/9 [==============================] - 0s 3ms/step - loss: 0.3946 - accuracy: 0.8070\n",
            "Epoch 19/50\n",
            "9/9 [==============================] - 0s 3ms/step - loss: 0.3943 - accuracy: 0.8090\n",
            "Epoch 20/50\n",
            "9/9 [==============================] - 0s 3ms/step - loss: 0.3940 - accuracy: 0.8051\n",
            "Epoch 21/50\n",
            "9/9 [==============================] - 0s 3ms/step - loss: 0.3929 - accuracy: 0.8070\n",
            "Epoch 22/50\n",
            "9/9 [==============================] - 0s 3ms/step - loss: 0.3924 - accuracy: 0.8090\n",
            "Epoch 23/50\n",
            "9/9 [==============================] - 0s 5ms/step - loss: 0.3915 - accuracy: 0.8090\n",
            "Epoch 24/50\n",
            "9/9 [==============================] - 0s 4ms/step - loss: 0.3915 - accuracy: 0.8031\n",
            "Epoch 25/50\n",
            "9/9 [==============================] - 0s 3ms/step - loss: 0.3896 - accuracy: 0.8090\n",
            "Epoch 26/50\n",
            "9/9 [==============================] - 0s 4ms/step - loss: 0.3914 - accuracy: 0.8148\n",
            "Epoch 27/50\n",
            "9/9 [==============================] - 0s 3ms/step - loss: 0.3902 - accuracy: 0.8090\n",
            "Epoch 28/50\n",
            "9/9 [==============================] - 0s 5ms/step - loss: 0.3911 - accuracy: 0.8148\n",
            "Epoch 29/50\n",
            "9/9 [==============================] - 0s 3ms/step - loss: 0.3905 - accuracy: 0.8090\n",
            "Epoch 30/50\n",
            "9/9 [==============================] - 0s 4ms/step - loss: 0.3885 - accuracy: 0.8070\n",
            "Epoch 31/50\n",
            "9/9 [==============================] - 0s 3ms/step - loss: 0.3877 - accuracy: 0.8109\n",
            "Epoch 32/50\n",
            "9/9 [==============================] - 0s 3ms/step - loss: 0.3861 - accuracy: 0.8168\n",
            "Epoch 33/50\n",
            "9/9 [==============================] - 0s 4ms/step - loss: 0.3921 - accuracy: 0.8148\n",
            "Epoch 34/50\n",
            "9/9 [==============================] - 0s 3ms/step - loss: 0.3902 - accuracy: 0.8070\n",
            "Epoch 35/50\n",
            "9/9 [==============================] - 0s 3ms/step - loss: 0.3896 - accuracy: 0.8090\n",
            "Epoch 36/50\n",
            "9/9 [==============================] - 0s 4ms/step - loss: 0.3951 - accuracy: 0.8070\n",
            "Epoch 37/50\n",
            "9/9 [==============================] - 0s 3ms/step - loss: 0.3910 - accuracy: 0.8168\n",
            "Epoch 38/50\n",
            "9/9 [==============================] - 0s 3ms/step - loss: 0.3872 - accuracy: 0.8226\n",
            "Epoch 39/50\n",
            "9/9 [==============================] - 0s 3ms/step - loss: 0.3863 - accuracy: 0.8207\n",
            "Epoch 40/50\n",
            "9/9 [==============================] - 0s 3ms/step - loss: 0.3857 - accuracy: 0.8168\n",
            "Epoch 41/50\n",
            "9/9 [==============================] - 0s 3ms/step - loss: 0.3840 - accuracy: 0.8187\n",
            "Epoch 42/50\n",
            "9/9 [==============================] - 0s 4ms/step - loss: 0.3827 - accuracy: 0.8168\n",
            "Epoch 43/50\n",
            "9/9 [==============================] - 0s 3ms/step - loss: 0.3815 - accuracy: 0.8148\n",
            "Epoch 44/50\n",
            "9/9 [==============================] - 0s 3ms/step - loss: 0.3822 - accuracy: 0.8148\n",
            "Epoch 45/50\n",
            "9/9 [==============================] - 0s 3ms/step - loss: 0.3832 - accuracy: 0.8148\n",
            "Epoch 46/50\n",
            "9/9 [==============================] - 0s 3ms/step - loss: 0.3970 - accuracy: 0.8070\n",
            "Epoch 47/50\n",
            "9/9 [==============================] - 0s 3ms/step - loss: 0.3902 - accuracy: 0.8031\n",
            "Epoch 48/50\n",
            "9/9 [==============================] - 0s 3ms/step - loss: 0.3832 - accuracy: 0.8168\n",
            "Epoch 49/50\n",
            "9/9 [==============================] - 0s 4ms/step - loss: 0.3804 - accuracy: 0.8148\n",
            "Epoch 50/50\n",
            "9/9 [==============================] - 0s 3ms/step - loss: 0.3785 - accuracy: 0.8168\n"
          ]
        }
      ],
      "source": [
        "history_without_validationSplit = model_withoutValidation.fit(X_train, y_train,  epochs=50, batch_size=64)"
      ]
    },
    {
      "cell_type": "markdown",
      "metadata": {
        "id": "Arf9MTgaEoFU"
      },
      "source": [
        "## **<font style=\"color:rgb(134,19,348)\"> Step 5: Evaluation des performances du modèle : </font>**\n",
        "L'étape 5 de la création d'un modèle de prédiction de diabète consiste à évaluer les performances du modèle entraîné. Cela permet de mesurer la qualité de la prédiction du modèle en utilisant différentes métriques.\n",
        "\n",
        "Il existe plusieurs métriques couramment utilisées pour évaluer les performances d'un modèle de classification binaire, telles que l'accuracy, la matrice de confusion, le rapport de vrais positifs (TPR), le rapport de faux positifs (FPR), la précision, le rappel, le F1 score et l'AUC (Area Under the Curve) du courbe ROC (Receiver Operating Characteristic).\n",
        "\n",
        "En utilisant Keras, on peut évaluer les performances du modèle en utilisant la méthode \"evaluate\" de l'objet modèle. Cela prend en entrée l'ensemble de données de test et les étiquettes cibles associées. La méthode \"evaluate\" retourne une liste de valeurs pour les métriques définies dans la compile step."
      ]
    },
    {
      "cell_type": "code",
      "execution_count": null,
      "metadata": {
        "id": "LWOkD7FCwPfC",
        "colab": {
          "base_uri": "https://localhost:8080/"
        },
        "outputId": "25425e61-8580-4c92-e0f7-114af15239fa"
      },
      "outputs": [
        {
          "output_type": "stream",
          "name": "stdout",
          "text": [
            "8/8 [==============================] - 0s 3ms/step - loss: 0.4453 - accuracy: 0.7480\n"
          ]
        },
        {
          "output_type": "execute_result",
          "data": {
            "text/plain": [
              "[0.44534406065940857, 0.748031497001648]"
            ]
          },
          "metadata": {},
          "execution_count": 85
        }
      ],
      "source": [
        "# Évaluation des performances du modèle\n",
        "model_withoutValidation.evaluate(X_test, y_test)"
      ]
    },
    {
      "cell_type": "markdown",
      "metadata": {
        "id": "VHVcARVOP3U4"
      },
      "source": [
        "La méthode evaluate permet d'évaluer les performances du modèle entraîné en utilisant les données de test (X_test et y_test). Cette méthode retourne deux valeurs: test_loss et test_acc. La valeur de test_loss représente la perte (loss) du modèle sur les données de test, qui reflète la différence entre les prédictions du modèle et les valeurs réelles de y_test. La valeur de test_acc représente la précision (accuracy) du modèle sur les données de test, qui indique le pourcentage de prédictions correctes.\n",
        "\n",
        "Dans ce cas précis, test_acc est de 0.6535, ce qui signifie que le modèle a correctement prédit 65,35% des valeurs de y_test. De même, test_loss est de 0.6996, ce qui signifie que le modèle a fait une erreur de 0.6996 en moyenne pour chaque prédiction sur les données de test.\n",
        "\n",
        "Il est important de noter que ces résultats dépendent des données d'entraînement, des hyperparamètres choisis, et de l'architecture du modèle. Il peut donc être nécessaire de les ajuster pour obtenir de meilleurs résultats."
      ]
    },
    {
      "cell_type": "markdown",
      "metadata": {
        "id": "VcHWMGDmDosw"
      },
      "source": [
        "\n",
        "## **<font style=\"color:rgb(134,19,348)\"> Step 6: Utilisation du modèle pour faire des prédictions sur des données supplémentaires </font>**"
      ]
    },
    {
      "cell_type": "code",
      "execution_count": null,
      "metadata": {
        "id": "Uy8nBDKjD13r"
      },
      "outputs": [],
      "source": [
        "def predictions(model):\n",
        "  # Utilisation du modèle pour faire des prédictions sur des données supplémentaires\n",
        "  predictions = model.predict(X_test)\n",
        "  y_pred = np.where(predictions > 0.5 , 1, 0)\n",
        "  from sklearn.metrics import classification_report, accuracy_score, confusion_matrix\n",
        "\n",
        "  print(accuracy_score(y_test, y_pred))\n",
        "  print(classification_report(y_test, y_pred))\n",
        "\n",
        "  confusion_matrix = confusion_matrix(y_test,y_pred)\n",
        "\n",
        "  p = sns.heatmap(pd.DataFrame(confusion_matrix), annot=True, cmap=\"YlGnBu\" ,fmt='g')\n",
        "  plt.title('Confusion matrix')\n",
        "  plt.ylabel('Actual label')\n",
        "  plt.xlabel('Predicted label')"
      ]
    },
    {
      "cell_type": "code",
      "source": [
        "predictions(model_withoutValidation)"
      ],
      "metadata": {
        "colab": {
          "base_uri": "https://localhost:8080/",
          "height": 492
        },
        "id": "MbLbhmwxcRL7",
        "outputId": "69c61964-a8df-4723-a613-e07b14d13624"
      },
      "execution_count": null,
      "outputs": [
        {
          "output_type": "stream",
          "name": "stdout",
          "text": [
            "8/8 [==============================] - 0s 2ms/step\n",
            "0.7874015748031497\n",
            "              precision    recall  f1-score   support\n",
            "\n",
            "           0       0.82      0.87      0.84       169\n",
            "           1       0.71      0.62      0.66        85\n",
            "\n",
            "    accuracy                           0.79       254\n",
            "   macro avg       0.76      0.75      0.75       254\n",
            "weighted avg       0.78      0.79      0.78       254\n",
            "\n"
          ]
        },
        {
          "output_type": "display_data",
          "data": {
            "text/plain": [
              "<Figure size 432x288 with 2 Axes>"
            ],
            "image/png": "[encoded data removed]"
          },
          "metadata": {
            "needs_background": "light"
          }
        }
      ]
    },
    {
      "cell_type": "markdown",
      "metadata": {
        "id": "aDfgC-O1HngD"
      },
      "source": [
        " ## **<font style=\"color:rgb(134,19,348)\"> Step 7: Compilation du modèle à nouveau en utilisant le paramètre validation_split</font>**\n",
        "\n",
        "Le paramètre validation_split dans fit est utilisé pour définir la proportion des données d'entraînement à utiliser comme ensemble de validation. Il s'agit d'une approche d'évaluation de la performance du modèle qui consiste à séparer les données d'entraînement en deux parties: une partie pour l'entraînement (généralement 66%) et une partie pour la validation (généralement 33%). Le modèle est entraîné sur la partie d'entraînement et est évalué sur la partie de validation. Cela permet de mesurer la performance du modèle sur des données qu'il n'a pas vues pendant l'entraînement. Les résultats peuvent être utilisés pour déterminer si le modèle généralise bien aux données nouvelles et pour éviter le surapprentissage. La valeur du paramètre validation_split est un nombre compris entre 0 et 1 qui représente la proportion des données d'entraînement à utiliser pour la validation."
      ]
    },
    {
      "cell_type": "code",
      "execution_count": null,
      "metadata": {
        "id": "TubpRcAiH1sI",
        "colab": {
          "base_uri": "https://localhost:8080/"
        },
        "outputId": "69def188-3273-413e-ba62-b271e2b3c52c"
      },
      "outputs": [
        {
          "output_type": "stream",
          "name": "stdout",
          "text": [
            "Epoch 1/11\n",
            "11/11 [==============================] - 1s 30ms/step - loss: 0.6331 - accuracy: 0.6268 - val_loss: 0.5052 - val_accuracy: 0.7412\n",
            "Epoch 2/11\n",
            "11/11 [==============================] - 0s 16ms/step - loss: 0.5014 - accuracy: 0.7376 - val_loss: 0.4638 - val_accuracy: 0.8000\n",
            "Epoch 3/11\n",
            "11/11 [==============================] - 0s 12ms/step - loss: 0.4786 - accuracy: 0.7580 - val_loss: 0.4599 - val_accuracy: 0.7882\n",
            "Epoch 4/11\n",
            "11/11 [==============================] - 0s 11ms/step - loss: 0.4644 - accuracy: 0.7522 - val_loss: 0.4659 - val_accuracy: 0.7765\n",
            "Epoch 5/11\n",
            "11/11 [==============================] - 0s 8ms/step - loss: 0.4567 - accuracy: 0.7493 - val_loss: 0.4775 - val_accuracy: 0.7647\n",
            "Epoch 6/11\n",
            "11/11 [==============================] - 0s 7ms/step - loss: 0.4507 - accuracy: 0.7580 - val_loss: 0.4704 - val_accuracy: 0.7765\n",
            "Epoch 7/11\n",
            "11/11 [==============================] - 0s 16ms/step - loss: 0.4453 - accuracy: 0.7551 - val_loss: 0.4782 - val_accuracy: 0.7588\n",
            "Epoch 8/11\n",
            "11/11 [==============================] - 0s 8ms/step - loss: 0.4373 - accuracy: 0.7522 - val_loss: 0.4714 - val_accuracy: 0.7706\n",
            "Epoch 9/11\n",
            "11/11 [==============================] - 0s 8ms/step - loss: 0.4351 - accuracy: 0.7551 - val_loss: 0.4738 - val_accuracy: 0.7706\n",
            "Epoch 10/11\n",
            "11/11 [==============================] - 0s 8ms/step - loss: 0.4308 - accuracy: 0.7522 - val_loss: 0.4811 - val_accuracy: 0.7824\n",
            "Epoch 11/11\n",
            "11/11 [==============================] - 0s 11ms/step - loss: 0.4258 - accuracy: 0.7697 - val_loss: 0.4834 - val_accuracy: 0.7706\n"
          ]
        }
      ],
      "source": [
        "import keras\n",
        "# Création du modèle Deep Learning\n",
        "model_withValidation = Sequential()\n",
        "model_withValidation.add(Dense(30, input_dim=6, activation='relu'))\n",
        "model_withValidation.add(Dense(1, activation='sigmoid'))\n",
        "\n",
        "# Compilation du modèle\n",
        "model_withValidation.compile(loss='binary_crossentropy', optimizer=keras.optimizers.Adam(learning_rate=0.01), metrics=['accuracy'])\n",
        "\n",
        "# Entraînement du modèle\n",
        "history_with_validationSplit = model_withValidation.fit(X_train, y_train, validation_split=0.33, epochs=11, batch_size=32)"
      ]
    },
    {
      "cell_type": "code",
      "execution_count": null,
      "metadata": {
        "id": "wURiqjoIw8Ll",
        "colab": {
          "base_uri": "https://localhost:8080/"
        },
        "outputId": "b9c44abf-a7dd-46cc-ae0a-0feb1a72c64c"
      },
      "outputs": [
        {
          "output_type": "stream",
          "name": "stdout",
          "text": [
            "8/8 [==============================] - 0s 2ms/step - loss: 0.4243 - accuracy: 0.8031\n"
          ]
        },
        {
          "output_type": "execute_result",
          "data": {
            "text/plain": [
              "[0.424348920583725, 0.8031495809555054]"
            ]
          },
          "metadata": {},
          "execution_count": 99
        }
      ],
      "source": [
        "# Évaluation des performances du modèle\n",
        "model_withValidation.evaluate(X_test, y_test)"
      ]
    },
    {
      "cell_type": "code",
      "source": [
        "# Utilisation du modèle pour faire des prédictions sur des données supplémentaires\n",
        "predictions(model_withValidation)"
      ],
      "metadata": {
        "colab": {
          "base_uri": "https://localhost:8080/",
          "height": 492
        },
        "id": "lCnbcqKackkx",
        "outputId": "7c11b304-6a6f-4d73-9354-fcf158ab6186"
      },
      "execution_count": null,
      "outputs": [
        {
          "output_type": "stream",
          "name": "stdout",
          "text": [
            "8/8 [==============================] - 0s 2ms/step\n",
            "0.8031496062992126\n",
            "              precision    recall  f1-score   support\n",
            "\n",
            "           0       0.87      0.83      0.85       169\n",
            "           1       0.69      0.75      0.72        85\n",
            "\n",
            "    accuracy                           0.80       254\n",
            "   macro avg       0.78      0.79      0.78       254\n",
            "weighted avg       0.81      0.80      0.81       254\n",
            "\n"
          ]
        },
        {
          "output_type": "display_data",
          "data": {
            "text/plain": [
              "<Figure size 432x288 with 2 Axes>"
            ],
            "image/png": "[encoded data removed]"
          },
          "metadata": {
            "needs_background": "light"
          }
        }
      ]
    },
    {
      "cell_type": "markdown",
      "metadata": {
        "id": "dVjYZFVeKvh5"
      },
      "source": [
        "## **<font style=\"color:rgb(134,19,348)\"> Step 8: Analyse visuelle à l’aide de la bibliothèque MatPLotLib</font>**\n"
      ]
    },
    {
      "cell_type": "code",
      "execution_count": null,
      "metadata": {
        "id": "bhZVDpJY0a_E",
        "colab": {
          "base_uri": "https://localhost:8080/"
        },
        "outputId": "99a58806-3b1a-4264-8975-444da142d8a6"
      },
      "outputs": [
        {
          "output_type": "stream",
          "name": "stdout",
          "text": [
            "------ Accuracy ---------\n",
            "Without validation  37\n",
            "With validation  1\n",
            "\n",
            "\n",
            "------ Loss ---------\n",
            "Without validation  49\n",
            "With validation  2\n",
            "\n",
            "\n",
            "MEan   15\n"
          ]
        }
      ],
      "source": [
        "print(\"------ Accuracy ---------\")\n",
        "print(\"Without validation \",np.argmax( history_without_validationSplit.history[\"accuracy\"]))\n",
        "print(\"With validation \",np.argmax( history_with_validationSplit.history[\"val_accuracy\"]))\n",
        "\n",
        "print(\"\\n\\n------ Loss ---------\")\n",
        "print(\"Without validation \",np.argmin( history_without_validationSplit.history[\"loss\"]))\n",
        "print(\"With validation \",np.argmin( history_with_validationSplit.history[\"val_loss\"]))\n",
        "\n",
        "print(\"\\n\\nMEan  \", int(np.mean([15,23,13,12])))"
      ]
    },
    {
      "cell_type": "markdown",
      "metadata": {
        "id": "5K90KpimK6h5"
      },
      "source": [
        "##*=> Sans le parametre validation_split*"
      ]
    },
    {
      "cell_type": "code",
      "execution_count": null,
      "metadata": {
        "id": "nd2QLTCVLa6O",
        "colab": {
          "base_uri": "https://localhost:8080/",
          "height": 302
        },
        "outputId": "bbfbf69b-f4b3-4a77-8ebb-7cdbaea5edc9"
      },
      "outputs": [
        {
          "output_type": "display_data",
          "data": {
            "text/plain": [
              "<Figure size 432x288 with 1 Axes>"
            ],
            "image/png": "[encoded data removed]"
          },
          "metadata": {
            "needs_background": "light"
          }
        }
      ],
      "source": [
        "# Analyse visuelle de la perte d'entraînement et de validation\n",
        "\n",
        "plt.plot(history_without_validationSplit.history[\"loss\"])\n",
        "plt.title(\"Perte\")\n",
        "plt.xlabel(\"Époques\")\n",
        "plt.ylabel(\"Perte\")\n",
        "plt.legend([\"Entraînement\"], loc=\"upper left\")\n",
        "plt.show()"
      ]
    },
    {
      "cell_type": "markdown",
      "metadata": {
        "id": "MBsy_T7kLGc3"
      },
      "source": [
        "##*=> Avec le parametre validation_split*"
      ]
    },
    {
      "cell_type": "code",
      "execution_count": null,
      "metadata": {
        "id": "TSp_WdQDKmMr",
        "colab": {
          "base_uri": "https://localhost:8080/",
          "height": 587
        },
        "outputId": "d8a776ca-5205-48f4-bb39-5eb1645a0ede"
      },
      "outputs": [
        {
          "output_type": "display_data",
          "data": {
            "text/plain": [
              "<Figure size 432x288 with 1 Axes>"
            ],
            "image/png": "[encoded data removed]"
          },
          "metadata": {
            "needs_background": "light"
          }
        },
        {
          "output_type": "display_data",
          "data": {
            "text/plain": [
              "<Figure size 432x288 with 1 Axes>"
            ],
            "image/png": "[encoded data removed]"
          },
          "metadata": {
            "needs_background": "light"
          }
        }
      ],
      "source": [
        "# Analyse visuelle de l'accuracy et de la perte d'entraînement et de validation\n",
        "plt.plot(history_with_validationSplit.history[\"accuracy\"])\n",
        "plt.plot(history_with_validationSplit.history[\"val_accuracy\"])\n",
        "plt.title(\"Accuracy\")\n",
        "plt.xlabel(\"Époques\")\n",
        "plt.ylabel(\"Accuracy\")\n",
        "plt.legend([\"Entraînement\", \"Validation\"], loc=\"upper left\")\n",
        "plt.show()\n",
        "\n",
        "plt.plot(history_with_validationSplit.history[\"loss\"])\n",
        "plt.plot(history_with_validationSplit.history[\"val_loss\"])\n",
        "plt.title(\"Perte\")\n",
        "plt.xlabel(\"Époques\")\n",
        "plt.ylabel(\"Perte\")\n",
        "plt.legend([\"Entraînement\", \"Validation\"], loc=\"upper left\")\n",
        "plt.show()"
      ]
    },
    {
      "cell_type": "markdown",
      "metadata": {
        "id": "c6t72y7KETDl"
      },
      "source": [
        "# Savegarde du modèle\n"
      ]
    },
    {
      "cell_type": "code",
      "execution_count": null,
      "metadata": {
        "id": "O82p3lr8EZGt"
      },
      "outputs": [],
      "source": [
        "model_withValidation.save(\"model.h5\")"
      ]
    },
    {
      "cell_type": "markdown",
      "metadata": {
        "id": "_NR-KUl4nT6P"
      },
      "source": [
        "### Remarque ✅\n",
        "Si on n'utilise pas la validation_split lors de l'entraînement du modèle avec Keras, on ne sera pas en mesure de mesurer la performance du modèle sur un ensemble de données indépendant pendant l'entraînement. Cela peut entraîner une surestimation de la performance du modèle sur les données d'entraînement, ce qui est souvent appelé surapprentissage. Cela peut se manifester par une diminution de la perte sur les données d'entraînement au fil des époques. Cela signifie que le modèle commence à mémoriser les données d'entraînement au lieu de généraliser les relations à des données nouvelles. Il est donc important d'utiliser validation_split pour évaluer la performance du modèle sur des données indépendantes pendant l'entraînement."
      ]
    },
    {
      "cell_type": "markdown",
      "metadata": {
        "id": "85j--J-8oqef"
      },
      "source": [
        "# Résumé ⭐\n",
        "Dans ce projet, l'objectif est de prédire la présence de diabète chez une personne en utilisant l'apprentissage profond avec Keras. Les étapes clés pour atteindre cet objectif sont les suivantes:\n",
        "\n",
        "- **Préparation des données:** Il s'agit de collecter les données nécessaires pour le modèle et de les préparer pour l'entraînement et les tests en utilisant des techniques telles que le codage et la normalisation des données.\n",
        "\n",
        "- **Définition du modèle:** Il s'agit de choisir un modèle de réseau de neurones et de le définir en utilisant les couches appropriées pour la tâche de classification.\n",
        "\n",
        "- **Compilation du modèle:** Il s'agit de définir les hyperparamètres du modèle tels que la fonction de coût, l'optimiseur et les métriques d'évaluation.\n",
        "\n",
        "- **Entraînement du modèle:** Il s'agit d'entraîner le modèle en utilisant les données d'entraînement en répétant plusieurs epochs.\n",
        "\n",
        "- **Évaluation du modèle:** Il s'agit de mesurer la performance du modèle en utilisant des métriques telles que l'accuracy et la loss.\n",
        "\n",
        "- **Utilisation du modèle préparé et affichage du diagramme:** Il s'agit d'utiliser le modèle entraîné pour effectuer des prédictions sur les données de test et de visualiser les résultats en utilisant des diagrammes.\n",
        "\n",
        "- **Optimisation du modèle:** Si les résultats ne sont pas satisfaisants, il peut être nécessaire d'optimiser le modèle en modifiant les hyperparamètres, en ajoutant ou en supprimant des couches, etc.\n",
        "\n",
        "En fin de compte, l'évaluation des résultats déterminera la qualité du modèle pour prédire la présence de diabète."
      ]
    },
    {
      "cell_type": "markdown",
      "metadata": {
        "id": "YZx_v8wn6A4A"
      },
      "source": [
        "#*================================================================================================================================================*\n",
        "\n",
        "# Optimisation des hyper paramètres \n",
        "Les modèles de régression (ou de classification) sont des fonctions mathématiques qui dépendent d’hyperparamètres . Le réglage de ces hyperparamètres va impacter fortement le score final de ce modèle.\n",
        "\n",
        "GridSearchCV permet réaliser automatiquement la recherche des meilleurs hyperparamètres. L’utilisateur aura juste à préciser quels hyperparamètres il souhaite faire varier leurs niveaux de variation et GridSearchCV déterminera automatiquement le meilleur réglage.\n",
        "\n",
        "Le résultat final affiche le meilleur score obtenu ainsi que les meilleurs paramètres qui l'ont produit, puis les moyennes et les écarts-types pour chaque combinaison de paramètres. Le code affiche également l'index de la moyenne la plus élevée parmi les moyennes des scores.\n",
        "\n",
        "La moyenne (mean en anglais) et l'écart-type (standard deviation en anglais) sont deux des mesures les plus courantes pour décrire la distribution d'un ensemble de données.\n",
        "\n",
        "La moyenne est simplement la somme de toutes les valeurs dans l'ensemble divisée par le nombre total de valeurs. Elle donne une idée de la tendance générale des données et peut être utilisée pour évaluer la performance moyenne d'un modèle.\n",
        "\n",
        "L'écart-type mesure la variation des données autour de la moyenne. Plus l'écart-type est élevé, plus les valeurs dans l'ensemble sont dispersées. Inversement, plus l'écart-type est faible, plus les valeurs dans l'ensemble sont proches de la moyenne. L'écart-type peut être utilisé pour évaluer la robustesse d'un modèle et pour déterminer si les résultats obtenus sont stables et fiables."
      ]
    },
    {
      "cell_type": "code",
      "execution_count": null,
      "metadata": {
        "colab": {
          "base_uri": "https://localhost:8080/"
        },
        "id": "4VpNU1WVdI64",
        "outputId": "550e50a1-5d56-4485-86fe-5bc625497911"
      },
      "outputs": [
        {
          "output_type": "stream",
          "name": "stderr",
          "text": [
            "WARNING:tensorflow:5 out of the last 16 calls to <function Model.make_test_function.<locals>.test_function at 0x7f6d3b768d30> triggered tf.function retracing. Tracing is expensive and the excessive number of tracings could be due to (1) creating @tf.function repeatedly in a loop, (2) passing tensors with different shapes, (3) passing Python objects instead of tensors. For (1), please define your @tf.function outside of the loop. For (2), @tf.function has reduce_retracing=True option that can avoid unnecessary retracing. For (3), please refer to https://www.tensorflow.org/guide/function#controlling_retracing and https://www.tensorflow.org/api_docs/python/tf/function for  more details.\n",
            "WARNING:tensorflow:5 out of the last 13 calls to <function Model.make_test_function.<locals>.test_function at 0x7f6d3b1711f0> triggered tf.function retracing. Tracing is expensive and the excessive number of tracings could be due to (1) creating @tf.function repeatedly in a loop, (2) passing tensors with different shapes, (3) passing Python objects instead of tensors. For (1), please define your @tf.function outside of the loop. For (2), @tf.function has reduce_retracing=True option that can avoid unnecessary retracing. For (3), please refer to https://www.tensorflow.org/guide/function#controlling_retracing and https://www.tensorflow.org/api_docs/python/tf/function for  more details.\n"
          ]
        },
        {
          "output_type": "stream",
          "name": "stdout",
          "text": [
            "Best: 0.775828 using {'activation': 'relu', 'batch_size': 32, 'epochs': 20, 'num_hidden_layers': 1, 'num_neurons': 30, 'optimizer': 'adam'}\n",
            "0.676413 (0.062317) with: {'activation': 'relu', 'batch_size': 32, 'epochs': 10, 'num_hidden_layers': 1, 'num_neurons': 10, 'optimizer': 'adam'}\n",
            "0.674464 (0.048772) with: {'activation': 'relu', 'batch_size': 32, 'epochs': 10, 'num_hidden_layers': 1, 'num_neurons': 10, 'optimizer': 'rmsprop'}\n",
            "0.740741 (0.045130) with: {'activation': 'relu', 'batch_size': 32, 'epochs': 10, 'num_hidden_layers': 1, 'num_neurons': 20, 'optimizer': 'adam'}\n",
            "0.723197 (0.021531) with: {'activation': 'relu', 'batch_size': 32, 'epochs': 10, 'num_hidden_layers': 1, 'num_neurons': 20, 'optimizer': 'rmsprop'}\n",
            "0.730994 (0.047027) with: {'activation': 'relu', 'batch_size': 32, 'epochs': 10, 'num_hidden_layers': 1, 'num_neurons': 30, 'optimizer': 'adam'}\n",
            "0.744639 (0.035196) with: {'activation': 'relu', 'batch_size': 32, 'epochs': 10, 'num_hidden_layers': 1, 'num_neurons': 30, 'optimizer': 'rmsprop'}\n",
            "0.707602 (0.076844) with: {'activation': 'relu', 'batch_size': 32, 'epochs': 10, 'num_hidden_layers': 2, 'num_neurons': 10, 'optimizer': 'adam'}\n",
            "0.639376 (0.135081) with: {'activation': 'relu', 'batch_size': 32, 'epochs': 10, 'num_hidden_layers': 2, 'num_neurons': 10, 'optimizer': 'rmsprop'}\n",
            "0.734893 (0.071516) with: {'activation': 'relu', 'batch_size': 32, 'epochs': 10, 'num_hidden_layers': 2, 'num_neurons': 20, 'optimizer': 'adam'}\n",
            "0.736842 (0.062439) with: {'activation': 'relu', 'batch_size': 32, 'epochs': 10, 'num_hidden_layers': 2, 'num_neurons': 20, 'optimizer': 'rmsprop'}\n",
            "0.766082 (0.045549) with: {'activation': 'relu', 'batch_size': 32, 'epochs': 10, 'num_hidden_layers': 2, 'num_neurons': 30, 'optimizer': 'adam'}\n",
            "0.752437 (0.049698) with: {'activation': 'relu', 'batch_size': 32, 'epochs': 10, 'num_hidden_layers': 2, 'num_neurons': 30, 'optimizer': 'rmsprop'}\n",
            "0.719298 (0.033424) with: {'activation': 'relu', 'batch_size': 32, 'epochs': 10, 'num_hidden_layers': 3, 'num_neurons': 10, 'optimizer': 'adam'}\n",
            "0.705653 (0.041717) with: {'activation': 'relu', 'batch_size': 32, 'epochs': 10, 'num_hidden_layers': 3, 'num_neurons': 10, 'optimizer': 'rmsprop'}\n",
            "0.762183 (0.047107) with: {'activation': 'relu', 'batch_size': 32, 'epochs': 10, 'num_hidden_layers': 3, 'num_neurons': 20, 'optimizer': 'adam'}\n",
            "0.727096 (0.063045) with: {'activation': 'relu', 'batch_size': 32, 'epochs': 10, 'num_hidden_layers': 3, 'num_neurons': 20, 'optimizer': 'rmsprop'}\n",
            "0.750487 (0.047828) with: {'activation': 'relu', 'batch_size': 32, 'epochs': 10, 'num_hidden_layers': 3, 'num_neurons': 30, 'optimizer': 'adam'}\n",
            "0.752437 (0.057760) with: {'activation': 'relu', 'batch_size': 32, 'epochs': 10, 'num_hidden_layers': 3, 'num_neurons': 30, 'optimizer': 'rmsprop'}\n",
            "0.678363 (0.062621) with: {'activation': 'relu', 'batch_size': 32, 'epochs': 20, 'num_hidden_layers': 1, 'num_neurons': 10, 'optimizer': 'adam'}\n",
            "0.711501 (0.011027) with: {'activation': 'relu', 'batch_size': 32, 'epochs': 20, 'num_hidden_layers': 1, 'num_neurons': 10, 'optimizer': 'rmsprop'}\n",
            "0.750487 (0.024033) with: {'activation': 'relu', 'batch_size': 32, 'epochs': 20, 'num_hidden_layers': 1, 'num_neurons': 20, 'optimizer': 'adam'}\n",
            "0.748538 (0.045549) with: {'activation': 'relu', 'batch_size': 32, 'epochs': 20, 'num_hidden_layers': 1, 'num_neurons': 20, 'optimizer': 'rmsprop'}\n",
            "0.775828 (0.064828) with: {'activation': 'relu', 'batch_size': 32, 'epochs': 20, 'num_hidden_layers': 1, 'num_neurons': 30, 'optimizer': 'adam'}\n",
            "0.769981 (0.038595) with: {'activation': 'relu', 'batch_size': 32, 'epochs': 20, 'num_hidden_layers': 1, 'num_neurons': 30, 'optimizer': 'rmsprop'}\n",
            "0.729045 (0.052378) with: {'activation': 'relu', 'batch_size': 32, 'epochs': 20, 'num_hidden_layers': 2, 'num_neurons': 10, 'optimizer': 'adam'}\n",
            "0.732943 (0.045130) with: {'activation': 'relu', 'batch_size': 32, 'epochs': 20, 'num_hidden_layers': 2, 'num_neurons': 10, 'optimizer': 'rmsprop'}\n",
            "0.748538 (0.062439) with: {'activation': 'relu', 'batch_size': 32, 'epochs': 20, 'num_hidden_layers': 2, 'num_neurons': 20, 'optimizer': 'adam'}\n",
            "0.748538 (0.049851) with: {'activation': 'relu', 'batch_size': 32, 'epochs': 20, 'num_hidden_layers': 2, 'num_neurons': 20, 'optimizer': 'rmsprop'}\n",
            "0.758285 (0.054302) with: {'activation': 'relu', 'batch_size': 32, 'epochs': 20, 'num_hidden_layers': 2, 'num_neurons': 30, 'optimizer': 'adam'}\n",
            "0.768031 (0.059318) with: {'activation': 'relu', 'batch_size': 32, 'epochs': 20, 'num_hidden_layers': 2, 'num_neurons': 30, 'optimizer': 'rmsprop'}\n",
            "0.750487 (0.050607) with: {'activation': 'relu', 'batch_size': 32, 'epochs': 20, 'num_hidden_layers': 3, 'num_neurons': 10, 'optimizer': 'adam'}\n",
            "0.734893 (0.056965) with: {'activation': 'relu', 'batch_size': 32, 'epochs': 20, 'num_hidden_layers': 3, 'num_neurons': 10, 'optimizer': 'rmsprop'}\n",
            "0.736842 (0.058088) with: {'activation': 'relu', 'batch_size': 32, 'epochs': 20, 'num_hidden_layers': 3, 'num_neurons': 20, 'optimizer': 'adam'}\n",
            "0.762183 (0.065003) with: {'activation': 'relu', 'batch_size': 32, 'epochs': 20, 'num_hidden_layers': 3, 'num_neurons': 20, 'optimizer': 'rmsprop'}\n",
            "0.754386 (0.045549) with: {'activation': 'relu', 'batch_size': 32, 'epochs': 20, 'num_hidden_layers': 3, 'num_neurons': 30, 'optimizer': 'adam'}\n",
            "0.742690 (0.049851) with: {'activation': 'relu', 'batch_size': 32, 'epochs': 20, 'num_hidden_layers': 3, 'num_neurons': 30, 'optimizer': 'rmsprop'}\n",
            "0.727096 (0.027151) with: {'activation': 'relu', 'batch_size': 32, 'epochs': 30, 'num_hidden_layers': 1, 'num_neurons': 10, 'optimizer': 'adam'}\n",
            "0.742690 (0.037293) with: {'activation': 'relu', 'batch_size': 32, 'epochs': 30, 'num_hidden_layers': 1, 'num_neurons': 10, 'optimizer': 'rmsprop'}\n",
            "0.750487 (0.051056) with: {'activation': 'relu', 'batch_size': 32, 'epochs': 30, 'num_hidden_layers': 1, 'num_neurons': 20, 'optimizer': 'adam'}\n",
            "0.768031 (0.046865) with: {'activation': 'relu', 'batch_size': 32, 'epochs': 30, 'num_hidden_layers': 1, 'num_neurons': 20, 'optimizer': 'rmsprop'}\n",
            "0.758285 (0.056564) with: {'activation': 'relu', 'batch_size': 32, 'epochs': 30, 'num_hidden_layers': 1, 'num_neurons': 30, 'optimizer': 'adam'}\n",
            "0.760234 (0.037899) with: {'activation': 'relu', 'batch_size': 32, 'epochs': 30, 'num_hidden_layers': 1, 'num_neurons': 30, 'optimizer': 'rmsprop'}\n",
            "0.752437 (0.037088) with: {'activation': 'relu', 'batch_size': 32, 'epochs': 30, 'num_hidden_layers': 2, 'num_neurons': 10, 'optimizer': 'adam'}\n",
            "0.771930 (0.037293) with: {'activation': 'relu', 'batch_size': 32, 'epochs': 30, 'num_hidden_layers': 2, 'num_neurons': 10, 'optimizer': 'rmsprop'}\n",
            "0.756335 (0.035196) with: {'activation': 'relu', 'batch_size': 32, 'epochs': 30, 'num_hidden_layers': 2, 'num_neurons': 20, 'optimizer': 'adam'}\n",
            "0.758285 (0.053242) with: {'activation': 'relu', 'batch_size': 32, 'epochs': 30, 'num_hidden_layers': 2, 'num_neurons': 20, 'optimizer': 'rmsprop'}\n",
            "0.764133 (0.066904) with: {'activation': 'relu', 'batch_size': 32, 'epochs': 30, 'num_hidden_layers': 2, 'num_neurons': 30, 'optimizer': 'adam'}\n",
            "0.748538 (0.060961) with: {'activation': 'relu', 'batch_size': 32, 'epochs': 30, 'num_hidden_layers': 2, 'num_neurons': 30, 'optimizer': 'rmsprop'}\n",
            "0.744639 (0.059318) with: {'activation': 'relu', 'batch_size': 32, 'epochs': 30, 'num_hidden_layers': 3, 'num_neurons': 10, 'optimizer': 'adam'}\n",
            "0.750487 (0.055341) with: {'activation': 'relu', 'batch_size': 32, 'epochs': 30, 'num_hidden_layers': 3, 'num_neurons': 10, 'optimizer': 'rmsprop'}\n",
            "0.760234 (0.042440) with: {'activation': 'relu', 'batch_size': 32, 'epochs': 30, 'num_hidden_layers': 3, 'num_neurons': 20, 'optimizer': 'adam'}\n",
            "0.754386 (0.045549) with: {'activation': 'relu', 'batch_size': 32, 'epochs': 30, 'num_hidden_layers': 3, 'num_neurons': 20, 'optimizer': 'rmsprop'}\n",
            "0.744639 (0.045881) with: {'activation': 'relu', 'batch_size': 32, 'epochs': 30, 'num_hidden_layers': 3, 'num_neurons': 30, 'optimizer': 'adam'}\n",
            "0.738791 (0.036468) with: {'activation': 'relu', 'batch_size': 32, 'epochs': 30, 'num_hidden_layers': 3, 'num_neurons': 30, 'optimizer': 'rmsprop'}\n",
            "0.614035 (0.053170) with: {'activation': 'relu', 'batch_size': 64, 'epochs': 10, 'num_hidden_layers': 1, 'num_neurons': 10, 'optimizer': 'adam'}\n",
            "0.610136 (0.066219) with: {'activation': 'relu', 'batch_size': 64, 'epochs': 10, 'num_hidden_layers': 1, 'num_neurons': 10, 'optimizer': 'rmsprop'}\n",
            "0.711501 (0.081639) with: {'activation': 'relu', 'batch_size': 64, 'epochs': 10, 'num_hidden_layers': 1, 'num_neurons': 20, 'optimizer': 'adam'}\n",
            "0.760234 (0.049851) with: {'activation': 'relu', 'batch_size': 64, 'epochs': 10, 'num_hidden_layers': 1, 'num_neurons': 20, 'optimizer': 'rmsprop'}\n",
            "0.734893 (0.042796) with: {'activation': 'relu', 'batch_size': 64, 'epochs': 10, 'num_hidden_layers': 1, 'num_neurons': 30, 'optimizer': 'adam'}\n",
            "0.680312 (0.014587) with: {'activation': 'relu', 'batch_size': 64, 'epochs': 10, 'num_hidden_layers': 1, 'num_neurons': 30, 'optimizer': 'rmsprop'}\n",
            "0.680312 (0.073093) with: {'activation': 'relu', 'batch_size': 64, 'epochs': 10, 'num_hidden_layers': 2, 'num_neurons': 10, 'optimizer': 'adam'}\n",
            "0.693957 (0.038889) with: {'activation': 'relu', 'batch_size': 64, 'epochs': 10, 'num_hidden_layers': 2, 'num_neurons': 10, 'optimizer': 'rmsprop'}\n",
            "0.715400 (0.073093) with: {'activation': 'relu', 'batch_size': 64, 'epochs': 10, 'num_hidden_layers': 2, 'num_neurons': 20, 'optimizer': 'adam'}\n",
            "0.717349 (0.064828) with: {'activation': 'relu', 'batch_size': 64, 'epochs': 10, 'num_hidden_layers': 2, 'num_neurons': 20, 'optimizer': 'rmsprop'}\n",
            "0.742690 (0.040796) with: {'activation': 'relu', 'batch_size': 64, 'epochs': 10, 'num_hidden_layers': 2, 'num_neurons': 30, 'optimizer': 'adam'}\n",
            "0.756335 (0.051056) with: {'activation': 'relu', 'batch_size': 64, 'epochs': 10, 'num_hidden_layers': 2, 'num_neurons': 30, 'optimizer': 'rmsprop'}\n",
            "0.688109 (0.074330) with: {'activation': 'relu', 'batch_size': 64, 'epochs': 10, 'num_hidden_layers': 3, 'num_neurons': 10, 'optimizer': 'adam'}\n",
            "0.639376 (0.052378) with: {'activation': 'relu', 'batch_size': 64, 'epochs': 10, 'num_hidden_layers': 3, 'num_neurons': 10, 'optimizer': 'rmsprop'}\n",
            "0.713450 (0.054232) with: {'activation': 'relu', 'batch_size': 64, 'epochs': 10, 'num_hidden_layers': 3, 'num_neurons': 20, 'optimizer': 'adam'}\n",
            "0.692008 (0.053668) with: {'activation': 'relu', 'batch_size': 64, 'epochs': 10, 'num_hidden_layers': 3, 'num_neurons': 20, 'optimizer': 'rmsprop'}\n",
            "0.727096 (0.055341) with: {'activation': 'relu', 'batch_size': 64, 'epochs': 10, 'num_hidden_layers': 3, 'num_neurons': 30, 'optimizer': 'adam'}\n",
            "0.760234 (0.046047) with: {'activation': 'relu', 'batch_size': 64, 'epochs': 10, 'num_hidden_layers': 3, 'num_neurons': 30, 'optimizer': 'rmsprop'}\n",
            "0.668616 (0.073093) with: {'activation': 'relu', 'batch_size': 64, 'epochs': 20, 'num_hidden_layers': 1, 'num_neurons': 10, 'optimizer': 'adam'}\n",
            "0.676413 (0.030324) with: {'activation': 'relu', 'batch_size': 64, 'epochs': 20, 'num_hidden_layers': 1, 'num_neurons': 10, 'optimizer': 'rmsprop'}\n",
            "0.732943 (0.044366) with: {'activation': 'relu', 'batch_size': 64, 'epochs': 20, 'num_hidden_layers': 1, 'num_neurons': 20, 'optimizer': 'adam'}\n",
            "0.732943 (0.051500) with: {'activation': 'relu', 'batch_size': 64, 'epochs': 20, 'num_hidden_layers': 1, 'num_neurons': 20, 'optimizer': 'rmsprop'}\n",
            "0.744639 (0.057364) with: {'activation': 'relu', 'batch_size': 64, 'epochs': 20, 'num_hidden_layers': 1, 'num_neurons': 30, 'optimizer': 'adam'}\n",
            "0.752437 (0.069577) with: {'activation': 'relu', 'batch_size': 64, 'epochs': 20, 'num_hidden_layers': 1, 'num_neurons': 30, 'optimizer': 'rmsprop'}\n",
            "0.746589 (0.032502) with: {'activation': 'relu', 'batch_size': 64, 'epochs': 20, 'num_hidden_layers': 2, 'num_neurons': 10, 'optimizer': 'adam'}\n",
            "0.699805 (0.052595) with: {'activation': 'relu', 'batch_size': 64, 'epochs': 20, 'num_hidden_layers': 2, 'num_neurons': 10, 'optimizer': 'rmsprop'}\n",
            "0.760234 (0.047027) with: {'activation': 'relu', 'batch_size': 64, 'epochs': 20, 'num_hidden_layers': 2, 'num_neurons': 20, 'optimizer': 'adam'}\n",
            "0.769981 (0.066905) with: {'activation': 'relu', 'batch_size': 64, 'epochs': 20, 'num_hidden_layers': 2, 'num_neurons': 20, 'optimizer': 'rmsprop'}\n",
            "0.773879 (0.051500) with: {'activation': 'relu', 'batch_size': 64, 'epochs': 20, 'num_hidden_layers': 2, 'num_neurons': 30, 'optimizer': 'adam'}\n",
            "0.762183 (0.047828) with: {'activation': 'relu', 'batch_size': 64, 'epochs': 20, 'num_hidden_layers': 2, 'num_neurons': 30, 'optimizer': 'rmsprop'}\n",
            "0.711501 (0.039758) with: {'activation': 'relu', 'batch_size': 64, 'epochs': 20, 'num_hidden_layers': 3, 'num_neurons': 10, 'optimizer': 'adam'}\n",
            "0.692008 (0.041717) with: {'activation': 'relu', 'batch_size': 64, 'epochs': 20, 'num_hidden_layers': 3, 'num_neurons': 10, 'optimizer': 'rmsprop'}\n",
            "0.752437 (0.061396) with: {'activation': 'relu', 'batch_size': 64, 'epochs': 20, 'num_hidden_layers': 3, 'num_neurons': 20, 'optimizer': 'adam'}\n",
            "0.750487 (0.043062) with: {'activation': 'relu', 'batch_size': 64, 'epochs': 20, 'num_hidden_layers': 3, 'num_neurons': 20, 'optimizer': 'rmsprop'}\n",
            "0.760234 (0.058088) with: {'activation': 'relu', 'batch_size': 64, 'epochs': 20, 'num_hidden_layers': 3, 'num_neurons': 30, 'optimizer': 'adam'}\n",
            "0.752437 (0.035838) with: {'activation': 'relu', 'batch_size': 64, 'epochs': 20, 'num_hidden_layers': 3, 'num_neurons': 30, 'optimizer': 'rmsprop'}\n",
            "0.709552 (0.080088) with: {'activation': 'relu', 'batch_size': 64, 'epochs': 30, 'num_hidden_layers': 1, 'num_neurons': 10, 'optimizer': 'adam'}\n",
            "0.725146 (0.016541) with: {'activation': 'relu', 'batch_size': 64, 'epochs': 30, 'num_hidden_layers': 1, 'num_neurons': 10, 'optimizer': 'rmsprop'}\n",
            "0.760234 (0.023874) with: {'activation': 'relu', 'batch_size': 64, 'epochs': 30, 'num_hidden_layers': 1, 'num_neurons': 20, 'optimizer': 'adam'}\n",
            "0.760234 (0.049851) with: {'activation': 'relu', 'batch_size': 64, 'epochs': 30, 'num_hidden_layers': 1, 'num_neurons': 20, 'optimizer': 'rmsprop'}\n",
            "0.752437 (0.053242) with: {'activation': 'relu', 'batch_size': 64, 'epochs': 30, 'num_hidden_layers': 1, 'num_neurons': 30, 'optimizer': 'adam'}\n",
            "0.760234 (0.053810) with: {'activation': 'relu', 'batch_size': 64, 'epochs': 30, 'num_hidden_layers': 1, 'num_neurons': 30, 'optimizer': 'rmsprop'}\n",
            "0.727096 (0.059701) with: {'activation': 'relu', 'batch_size': 64, 'epochs': 30, 'num_hidden_layers': 2, 'num_neurons': 10, 'optimizer': 'adam'}\n",
            "0.721248 (0.052812) with: {'activation': 'relu', 'batch_size': 64, 'epochs': 30, 'num_hidden_layers': 2, 'num_neurons': 10, 'optimizer': 'rmsprop'}\n",
            "0.748538 (0.043762) with: {'activation': 'relu', 'batch_size': 64, 'epochs': 30, 'num_hidden_layers': 2, 'num_neurons': 20, 'optimizer': 'adam'}\n",
            "0.775828 (0.052595) with: {'activation': 'relu', 'batch_size': 64, 'epochs': 30, 'num_hidden_layers': 2, 'num_neurons': 20, 'optimizer': 'rmsprop'}\n",
            "0.771930 (0.057892) with: {'activation': 'relu', 'batch_size': 64, 'epochs': 30, 'num_hidden_layers': 2, 'num_neurons': 30, 'optimizer': 'adam'}\n",
            "0.769981 (0.060649) with: {'activation': 'relu', 'batch_size': 64, 'epochs': 30, 'num_hidden_layers': 2, 'num_neurons': 30, 'optimizer': 'rmsprop'}\n",
            "0.729045 (0.052595) with: {'activation': 'relu', 'batch_size': 64, 'epochs': 30, 'num_hidden_layers': 3, 'num_neurons': 10, 'optimizer': 'adam'}\n",
            "0.730994 (0.029819) with: {'activation': 'relu', 'batch_size': 64, 'epochs': 30, 'num_hidden_layers': 3, 'num_neurons': 10, 'optimizer': 'rmsprop'}\n",
            "0.732943 (0.046865) with: {'activation': 'relu', 'batch_size': 64, 'epochs': 30, 'num_hidden_layers': 3, 'num_neurons': 20, 'optimizer': 'adam'}\n",
            "0.769981 (0.052595) with: {'activation': 'relu', 'batch_size': 64, 'epochs': 30, 'num_hidden_layers': 3, 'num_neurons': 20, 'optimizer': 'rmsprop'}\n",
            "0.744639 (0.047828) with: {'activation': 'relu', 'batch_size': 64, 'epochs': 30, 'num_hidden_layers': 3, 'num_neurons': 30, 'optimizer': 'adam'}\n",
            "0.754386 (0.072256) with: {'activation': 'relu', 'batch_size': 64, 'epochs': 30, 'num_hidden_layers': 3, 'num_neurons': 30, 'optimizer': 'rmsprop'}\n",
            "0.602339 (0.051648) with: {'activation': 'relu', 'batch_size': 128, 'epochs': 10, 'num_hidden_layers': 1, 'num_neurons': 10, 'optimizer': 'adam'}\n",
            "0.497076 (0.099358) with: {'activation': 'relu', 'batch_size': 128, 'epochs': 10, 'num_hidden_layers': 1, 'num_neurons': 10, 'optimizer': 'rmsprop'}\n",
            "0.606238 (0.057364) with: {'activation': 'relu', 'batch_size': 128, 'epochs': 10, 'num_hidden_layers': 1, 'num_neurons': 20, 'optimizer': 'adam'}\n",
            "0.600390 (0.073093) with: {'activation': 'relu', 'batch_size': 128, 'epochs': 10, 'num_hidden_layers': 1, 'num_neurons': 20, 'optimizer': 'rmsprop'}\n",
            "0.682261 (0.045382) with: {'activation': 'relu', 'batch_size': 128, 'epochs': 10, 'num_hidden_layers': 1, 'num_neurons': 30, 'optimizer': 'adam'}\n",
            "0.682261 (0.058933) with: {'activation': 'relu', 'batch_size': 128, 'epochs': 10, 'num_hidden_layers': 1, 'num_neurons': 30, 'optimizer': 'rmsprop'}\n",
            "0.664717 (0.058349) with: {'activation': 'relu', 'batch_size': 128, 'epochs': 10, 'num_hidden_layers': 2, 'num_neurons': 10, 'optimizer': 'adam'}\n",
            "0.633528 (0.045881) with: {'activation': 'relu', 'batch_size': 128, 'epochs': 10, 'num_hidden_layers': 2, 'num_neurons': 10, 'optimizer': 'rmsprop'}\n",
            "0.686160 (0.061581) with: {'activation': 'relu', 'batch_size': 128, 'epochs': 10, 'num_hidden_layers': 2, 'num_neurons': 20, 'optimizer': 'adam'}\n",
            "0.746589 (0.037088) with: {'activation': 'relu', 'batch_size': 128, 'epochs': 10, 'num_hidden_layers': 2, 'num_neurons': 20, 'optimizer': 'rmsprop'}\n",
            "0.723197 (0.033537) with: {'activation': 'relu', 'batch_size': 128, 'epochs': 10, 'num_hidden_layers': 2, 'num_neurons': 30, 'optimizer': 'adam'}\n",
            "0.725146 (0.040796) with: {'activation': 'relu', 'batch_size': 128, 'epochs': 10, 'num_hidden_layers': 2, 'num_neurons': 30, 'optimizer': 'rmsprop'}\n",
            "0.631579 (0.029044) with: {'activation': 'relu', 'batch_size': 128, 'epochs': 10, 'num_hidden_layers': 3, 'num_neurons': 10, 'optimizer': 'adam'}\n",
            "0.647173 (0.031792) with: {'activation': 'relu', 'batch_size': 128, 'epochs': 10, 'num_hidden_layers': 3, 'num_neurons': 10, 'optimizer': 'rmsprop'}\n",
            "0.692008 (0.067075) with: {'activation': 'relu', 'batch_size': 128, 'epochs': 10, 'num_hidden_layers': 3, 'num_neurons': 20, 'optimizer': 'adam'}\n",
            "0.709552 (0.042796) with: {'activation': 'relu', 'batch_size': 128, 'epochs': 10, 'num_hidden_layers': 3, 'num_neurons': 20, 'optimizer': 'rmsprop'}\n",
            "0.713450 (0.059638) with: {'activation': 'relu', 'batch_size': 128, 'epochs': 10, 'num_hidden_layers': 3, 'num_neurons': 30, 'optimizer': 'adam'}\n",
            "0.742690 (0.047027) with: {'activation': 'relu', 'batch_size': 128, 'epochs': 10, 'num_hidden_layers': 3, 'num_neurons': 30, 'optimizer': 'rmsprop'}\n",
            "0.516569 (0.098590) with: {'activation': 'relu', 'batch_size': 128, 'epochs': 20, 'num_hidden_layers': 1, 'num_neurons': 10, 'optimizer': 'adam'}\n",
            "0.658869 (0.135754) with: {'activation': 'relu', 'batch_size': 128, 'epochs': 20, 'num_hidden_layers': 1, 'num_neurons': 10, 'optimizer': 'rmsprop'}\n",
            "0.721248 (0.065003) with: {'activation': 'relu', 'batch_size': 128, 'epochs': 20, 'num_hidden_layers': 1, 'num_neurons': 20, 'optimizer': 'adam'}\n",
            "0.732943 (0.054302) with: {'activation': 'relu', 'batch_size': 128, 'epochs': 20, 'num_hidden_layers': 1, 'num_neurons': 20, 'optimizer': 'rmsprop'}\n",
            "0.752437 (0.041717) with: {'activation': 'relu', 'batch_size': 128, 'epochs': 20, 'num_hidden_layers': 1, 'num_neurons': 30, 'optimizer': 'adam'}\n",
            "0.746589 (0.044366) with: {'activation': 'relu', 'batch_size': 128, 'epochs': 20, 'num_hidden_layers': 1, 'num_neurons': 30, 'optimizer': 'rmsprop'}\n",
            "0.615984 (0.086783) with: {'activation': 'relu', 'batch_size': 128, 'epochs': 20, 'num_hidden_layers': 2, 'num_neurons': 10, 'optimizer': 'adam'}\n",
            "0.662768 (0.028781) with: {'activation': 'relu', 'batch_size': 128, 'epochs': 20, 'num_hidden_layers': 2, 'num_neurons': 10, 'optimizer': 'rmsprop'}\n",
            "0.754386 (0.053170) with: {'activation': 'relu', 'batch_size': 128, 'epochs': 20, 'num_hidden_layers': 2, 'num_neurons': 20, 'optimizer': 'adam'}\n",
            "0.744639 (0.043326) with: {'activation': 'relu', 'batch_size': 128, 'epochs': 20, 'num_hidden_layers': 2, 'num_neurons': 20, 'optimizer': 'rmsprop'}\n",
            "0.746589 (0.060836) with: {'activation': 'relu', 'batch_size': 128, 'epochs': 20, 'num_hidden_layers': 2, 'num_neurons': 30, 'optimizer': 'adam'}\n",
            "0.766082 (0.033424) with: {'activation': 'relu', 'batch_size': 128, 'epochs': 20, 'num_hidden_layers': 2, 'num_neurons': 30, 'optimizer': 'rmsprop'}\n",
            "0.711501 (0.032502) with: {'activation': 'relu', 'batch_size': 128, 'epochs': 20, 'num_hidden_layers': 3, 'num_neurons': 10, 'optimizer': 'adam'}\n",
            "0.672515 (0.059829) with: {'activation': 'relu', 'batch_size': 128, 'epochs': 20, 'num_hidden_layers': 3, 'num_neurons': 10, 'optimizer': 'rmsprop'}\n",
            "0.729045 (0.079517) with: {'activation': 'relu', 'batch_size': 128, 'epochs': 20, 'num_hidden_layers': 3, 'num_neurons': 20, 'optimizer': 'adam'}\n",
            "0.744639 (0.051056) with: {'activation': 'relu', 'batch_size': 128, 'epochs': 20, 'num_hidden_layers': 3, 'num_neurons': 20, 'optimizer': 'rmsprop'}\n",
            "0.732943 (0.052812) with: {'activation': 'relu', 'batch_size': 128, 'epochs': 20, 'num_hidden_layers': 3, 'num_neurons': 30, 'optimizer': 'adam'}\n",
            "0.744639 (0.059701) with: {'activation': 'relu', 'batch_size': 128, 'epochs': 20, 'num_hidden_layers': 3, 'num_neurons': 30, 'optimizer': 'rmsprop'}\n",
            "0.719298 (0.034432) with: {'activation': 'relu', 'batch_size': 128, 'epochs': 30, 'num_hidden_layers': 1, 'num_neurons': 10, 'optimizer': 'adam'}\n",
            "0.670565 (0.031792) with: {'activation': 'relu', 'batch_size': 128, 'epochs': 30, 'num_hidden_layers': 1, 'num_neurons': 10, 'optimizer': 'rmsprop'}\n",
            "0.719298 (0.045549) with: {'activation': 'relu', 'batch_size': 128, 'epochs': 30, 'num_hidden_layers': 1, 'num_neurons': 20, 'optimizer': 'adam'}\n",
            "0.699805 (0.062134) with: {'activation': 'relu', 'batch_size': 128, 'epochs': 30, 'num_hidden_layers': 1, 'num_neurons': 20, 'optimizer': 'rmsprop'}\n",
            "0.750487 (0.030698) with: {'activation': 'relu', 'batch_size': 128, 'epochs': 30, 'num_hidden_layers': 1, 'num_neurons': 30, 'optimizer': 'adam'}\n",
            "0.742690 (0.037899) with: {'activation': 'relu', 'batch_size': 128, 'epochs': 30, 'num_hidden_layers': 1, 'num_neurons': 30, 'optimizer': 'rmsprop'}\n",
            "0.715400 (0.036468) with: {'activation': 'relu', 'batch_size': 128, 'epochs': 30, 'num_hidden_layers': 2, 'num_neurons': 10, 'optimizer': 'adam'}\n",
            "0.729045 (0.031792) with: {'activation': 'relu', 'batch_size': 128, 'epochs': 30, 'num_hidden_layers': 2, 'num_neurons': 10, 'optimizer': 'rmsprop'}\n",
            "0.766082 (0.051648) with: {'activation': 'relu', 'batch_size': 128, 'epochs': 30, 'num_hidden_layers': 2, 'num_neurons': 20, 'optimizer': 'adam'}\n",
            "0.738791 (0.034542) with: {'activation': 'relu', 'batch_size': 128, 'epochs': 30, 'num_hidden_layers': 2, 'num_neurons': 20, 'optimizer': 'rmsprop'}\n",
            "0.760234 (0.039084) with: {'activation': 'relu', 'batch_size': 128, 'epochs': 30, 'num_hidden_layers': 2, 'num_neurons': 30, 'optimizer': 'adam'}\n",
            "0.771930 (0.071303) with: {'activation': 'relu', 'batch_size': 128, 'epochs': 30, 'num_hidden_layers': 2, 'num_neurons': 30, 'optimizer': 'rmsprop'}\n",
            "0.725146 (0.036049) with: {'activation': 'relu', 'batch_size': 128, 'epochs': 30, 'num_hidden_layers': 3, 'num_neurons': 10, 'optimizer': 'adam'}\n",
            "0.711501 (0.038889) with: {'activation': 'relu', 'batch_size': 128, 'epochs': 30, 'num_hidden_layers': 3, 'num_neurons': 10, 'optimizer': 'rmsprop'}\n",
            "0.760234 (0.049851) with: {'activation': 'relu', 'batch_size': 128, 'epochs': 30, 'num_hidden_layers': 3, 'num_neurons': 20, 'optimizer': 'adam'}\n",
            "0.738791 (0.060082) with: {'activation': 'relu', 'batch_size': 128, 'epochs': 30, 'num_hidden_layers': 3, 'num_neurons': 20, 'optimizer': 'rmsprop'}\n",
            "0.752437 (0.048772) with: {'activation': 'relu', 'batch_size': 128, 'epochs': 30, 'num_hidden_layers': 3, 'num_neurons': 30, 'optimizer': 'adam'}\n",
            "0.752437 (0.052378) with: {'activation': 'relu', 'batch_size': 128, 'epochs': 30, 'num_hidden_layers': 3, 'num_neurons': 30, 'optimizer': 'rmsprop'}\n",
            "0.744639 (0.067919) with: {'activation': 'tanh', 'batch_size': 32, 'epochs': 10, 'num_hidden_layers': 1, 'num_neurons': 10, 'optimizer': 'adam'}\n",
            "0.719298 (0.037293) with: {'activation': 'tanh', 'batch_size': 32, 'epochs': 10, 'num_hidden_layers': 1, 'num_neurons': 10, 'optimizer': 'rmsprop'}\n",
            "0.707602 (0.033424) with: {'activation': 'tanh', 'batch_size': 32, 'epochs': 10, 'num_hidden_layers': 1, 'num_neurons': 20, 'optimizer': 'adam'}\n",
            "0.697856 (0.027978) with: {'activation': 'tanh', 'batch_size': 32, 'epochs': 10, 'num_hidden_layers': 1, 'num_neurons': 20, 'optimizer': 'rmsprop'}\n",
            "0.719298 (0.026585) with: {'activation': 'tanh', 'batch_size': 32, 'epochs': 10, 'num_hidden_layers': 1, 'num_neurons': 30, 'optimizer': 'adam'}\n",
            "0.736842 (0.031311) with: {'activation': 'tanh', 'batch_size': 32, 'epochs': 10, 'num_hidden_layers': 1, 'num_neurons': 30, 'optimizer': 'rmsprop'}\n",
            "0.750487 (0.047107) with: {'activation': 'tanh', 'batch_size': 32, 'epochs': 10, 'num_hidden_layers': 2, 'num_neurons': 10, 'optimizer': 'adam'}\n",
            "0.723197 (0.028781) with: {'activation': 'tanh', 'batch_size': 32, 'epochs': 10, 'num_hidden_layers': 2, 'num_neurons': 10, 'optimizer': 'rmsprop'}\n",
            "0.762183 (0.043326) with: {'activation': 'tanh', 'batch_size': 32, 'epochs': 10, 'num_hidden_layers': 2, 'num_neurons': 20, 'optimizer': 'adam'}\n",
            "0.762183 (0.043326) with: {'activation': 'tanh', 'batch_size': 32, 'epochs': 10, 'num_hidden_layers': 2, 'num_neurons': 20, 'optimizer': 'rmsprop'}\n",
            "0.754386 (0.054232) with: {'activation': 'tanh', 'batch_size': 32, 'epochs': 10, 'num_hidden_layers': 2, 'num_neurons': 30, 'optimizer': 'adam'}\n",
            "0.756335 (0.059701) with: {'activation': 'tanh', 'batch_size': 32, 'epochs': 10, 'num_hidden_layers': 2, 'num_neurons': 30, 'optimizer': 'rmsprop'}\n",
            "0.723197 (0.035196) with: {'activation': 'tanh', 'batch_size': 32, 'epochs': 10, 'num_hidden_layers': 3, 'num_neurons': 10, 'optimizer': 'adam'}\n",
            "0.711501 (0.032502) with: {'activation': 'tanh', 'batch_size': 32, 'epochs': 10, 'num_hidden_layers': 3, 'num_neurons': 10, 'optimizer': 'rmsprop'}\n",
            "0.748538 (0.046047) with: {'activation': 'tanh', 'batch_size': 32, 'epochs': 10, 'num_hidden_layers': 3, 'num_neurons': 20, 'optimizer': 'adam'}\n",
            "0.766082 (0.046047) with: {'activation': 'tanh', 'batch_size': 32, 'epochs': 10, 'num_hidden_layers': 3, 'num_neurons': 20, 'optimizer': 'rmsprop'}\n",
            "0.760234 (0.054232) with: {'activation': 'tanh', 'batch_size': 32, 'epochs': 10, 'num_hidden_layers': 3, 'num_neurons': 30, 'optimizer': 'adam'}\n",
            "0.762183 (0.047107) with: {'activation': 'tanh', 'batch_size': 32, 'epochs': 10, 'num_hidden_layers': 3, 'num_neurons': 30, 'optimizer': 'rmsprop'}\n",
            "0.738791 (0.019879) with: {'activation': 'tanh', 'batch_size': 32, 'epochs': 20, 'num_hidden_layers': 1, 'num_neurons': 10, 'optimizer': 'adam'}\n",
            "0.758285 (0.036154) with: {'activation': 'tanh', 'batch_size': 32, 'epochs': 20, 'num_hidden_layers': 1, 'num_neurons': 10, 'optimizer': 'rmsprop'}\n",
            "0.764133 (0.029175) with: {'activation': 'tanh', 'batch_size': 32, 'epochs': 20, 'num_hidden_layers': 1, 'num_neurons': 20, 'optimizer': 'adam'}\n",
            "0.738791 (0.047107) with: {'activation': 'tanh', 'batch_size': 32, 'epochs': 20, 'num_hidden_layers': 1, 'num_neurons': 20, 'optimizer': 'rmsprop'}\n",
            "0.766082 (0.043762) with: {'activation': 'tanh', 'batch_size': 32, 'epochs': 20, 'num_hidden_layers': 1, 'num_neurons': 30, 'optimizer': 'adam'}\n",
            "0.762183 (0.038595) with: {'activation': 'tanh', 'batch_size': 32, 'epochs': 20, 'num_hidden_layers': 1, 'num_neurons': 30, 'optimizer': 'rmsprop'}\n",
            "0.730994 (0.053170) with: {'activation': 'tanh', 'batch_size': 32, 'epochs': 20, 'num_hidden_layers': 2, 'num_neurons': 10, 'optimizer': 'adam'}\n",
            "0.746589 (0.040609) with: {'activation': 'tanh', 'batch_size': 32, 'epochs': 20, 'num_hidden_layers': 2, 'num_neurons': 10, 'optimizer': 'rmsprop'}\n",
            "0.764133 (0.052595) with: {'activation': 'tanh', 'batch_size': 32, 'epochs': 20, 'num_hidden_layers': 2, 'num_neurons': 20, 'optimizer': 'adam'}\n",
            "0.756335 (0.041167) with: {'activation': 'tanh', 'batch_size': 32, 'epochs': 20, 'num_hidden_layers': 2, 'num_neurons': 20, 'optimizer': 'rmsprop'}\n",
            "0.764133 (0.056564) with: {'activation': 'tanh', 'batch_size': 32, 'epochs': 20, 'num_hidden_layers': 2, 'num_neurons': 30, 'optimizer': 'adam'}\n",
            "0.756335 (0.039758) with: {'activation': 'tanh', 'batch_size': 32, 'epochs': 20, 'num_hidden_layers': 2, 'num_neurons': 30, 'optimizer': 'rmsprop'}\n",
            "0.742690 (0.042974) with: {'activation': 'tanh', 'batch_size': 32, 'epochs': 20, 'num_hidden_layers': 3, 'num_neurons': 10, 'optimizer': 'adam'}\n",
            "0.742690 (0.053810) with: {'activation': 'tanh', 'batch_size': 32, 'epochs': 20, 'num_hidden_layers': 3, 'num_neurons': 10, 'optimizer': 'rmsprop'}\n",
            "0.752437 (0.040044) with: {'activation': 'tanh', 'batch_size': 32, 'epochs': 20, 'num_hidden_layers': 3, 'num_neurons': 20, 'optimizer': 'adam'}\n",
            "0.748538 (0.048459) with: {'activation': 'tanh', 'batch_size': 32, 'epochs': 20, 'num_hidden_layers': 3, 'num_neurons': 20, 'optimizer': 'rmsprop'}\n",
            "0.754386 (0.049851) with: {'activation': 'tanh', 'batch_size': 32, 'epochs': 20, 'num_hidden_layers': 3, 'num_neurons': 30, 'optimizer': 'adam'}\n",
            "0.758285 (0.052378) with: {'activation': 'tanh', 'batch_size': 32, 'epochs': 20, 'num_hidden_layers': 3, 'num_neurons': 30, 'optimizer': 'rmsprop'}\n",
            "0.744639 (0.038298) with: {'activation': 'tanh', 'batch_size': 32, 'epochs': 30, 'num_hidden_layers': 1, 'num_neurons': 10, 'optimizer': 'adam'}\n",
            "0.732943 (0.055135) with: {'activation': 'tanh', 'batch_size': 32, 'epochs': 30, 'num_hidden_layers': 1, 'num_neurons': 10, 'optimizer': 'rmsprop'}\n",
            "0.748538 (0.050532) with: {'activation': 'tanh', 'batch_size': 32, 'epochs': 30, 'num_hidden_layers': 1, 'num_neurons': 20, 'optimizer': 'adam'}\n",
            "0.768031 (0.047107) with: {'activation': 'tanh', 'batch_size': 32, 'epochs': 30, 'num_hidden_layers': 1, 'num_neurons': 20, 'optimizer': 'rmsprop'}\n",
            "0.768031 (0.051500) with: {'activation': 'tanh', 'batch_size': 32, 'epochs': 30, 'num_hidden_layers': 1, 'num_neurons': 30, 'optimizer': 'adam'}\n",
            "0.762183 (0.047107) with: {'activation': 'tanh', 'batch_size': 32, 'epochs': 30, 'num_hidden_layers': 1, 'num_neurons': 30, 'optimizer': 'rmsprop'}\n",
            "0.768031 (0.051500) with: {'activation': 'tanh', 'batch_size': 32, 'epochs': 30, 'num_hidden_layers': 2, 'num_neurons': 10, 'optimizer': 'adam'}\n",
            "0.752437 (0.029175) with: {'activation': 'tanh', 'batch_size': 32, 'epochs': 30, 'num_hidden_layers': 2, 'num_neurons': 10, 'optimizer': 'rmsprop'}\n",
            "0.756335 (0.063405) with: {'activation': 'tanh', 'batch_size': 32, 'epochs': 30, 'num_hidden_layers': 2, 'num_neurons': 20, 'optimizer': 'adam'}\n",
            "0.752437 (0.044366) with: {'activation': 'tanh', 'batch_size': 32, 'epochs': 30, 'num_hidden_layers': 2, 'num_neurons': 20, 'optimizer': 'rmsprop'}\n",
            "0.754386 (0.050532) with: {'activation': 'tanh', 'batch_size': 32, 'epochs': 30, 'num_hidden_layers': 2, 'num_neurons': 30, 'optimizer': 'adam'}\n",
            "0.758285 (0.048302) with: {'activation': 'tanh', 'batch_size': 32, 'epochs': 30, 'num_hidden_layers': 2, 'num_neurons': 30, 'optimizer': 'rmsprop'}\n",
            "0.740741 (0.045130) with: {'activation': 'tanh', 'batch_size': 32, 'epochs': 30, 'num_hidden_layers': 3, 'num_neurons': 10, 'optimizer': 'adam'}\n",
            "0.736842 (0.043762) with: {'activation': 'tanh', 'batch_size': 32, 'epochs': 30, 'num_hidden_layers': 3, 'num_neurons': 10, 'optimizer': 'rmsprop'}\n",
            "0.746589 (0.069084) with: {'activation': 'tanh', 'batch_size': 32, 'epochs': 30, 'num_hidden_layers': 3, 'num_neurons': 20, 'optimizer': 'adam'}\n",
            "0.756335 (0.055341) with: {'activation': 'tanh', 'batch_size': 32, 'epochs': 30, 'num_hidden_layers': 3, 'num_neurons': 20, 'optimizer': 'rmsprop'}\n",
            "0.760234 (0.047027) with: {'activation': 'tanh', 'batch_size': 32, 'epochs': 30, 'num_hidden_layers': 3, 'num_neurons': 30, 'optimizer': 'adam'}\n",
            "0.750487 (0.051056) with: {'activation': 'tanh', 'batch_size': 32, 'epochs': 30, 'num_hidden_layers': 3, 'num_neurons': 30, 'optimizer': 'rmsprop'}\n",
            "0.621832 (0.040609) with: {'activation': 'tanh', 'batch_size': 64, 'epochs': 10, 'num_hidden_layers': 1, 'num_neurons': 10, 'optimizer': 'adam'}\n",
            "0.617934 (0.049698) with: {'activation': 'tanh', 'batch_size': 64, 'epochs': 10, 'num_hidden_layers': 1, 'num_neurons': 10, 'optimizer': 'rmsprop'}\n",
            "0.656920 (0.036154) with: {'activation': 'tanh', 'batch_size': 64, 'epochs': 10, 'num_hidden_layers': 1, 'num_neurons': 20, 'optimizer': 'adam'}\n",
            "0.703704 (0.056965) with: {'activation': 'tanh', 'batch_size': 64, 'epochs': 10, 'num_hidden_layers': 1, 'num_neurons': 20, 'optimizer': 'rmsprop'}\n",
            "0.703704 (0.033537) with: {'activation': 'tanh', 'batch_size': 64, 'epochs': 10, 'num_hidden_layers': 1, 'num_neurons': 30, 'optimizer': 'adam'}\n",
            "0.729045 (0.036468) with: {'activation': 'tanh', 'batch_size': 64, 'epochs': 10, 'num_hidden_layers': 1, 'num_neurons': 30, 'optimizer': 'rmsprop'}\n",
            "0.719298 (0.048459) with: {'activation': 'tanh', 'batch_size': 64, 'epochs': 10, 'num_hidden_layers': 2, 'num_neurons': 10, 'optimizer': 'adam'}\n",
            "0.699805 (0.030324) with: {'activation': 'tanh', 'batch_size': 64, 'epochs': 10, 'num_hidden_layers': 2, 'num_neurons': 10, 'optimizer': 'rmsprop'}\n",
            "0.729045 (0.040610) with: {'activation': 'tanh', 'batch_size': 64, 'epochs': 10, 'num_hidden_layers': 2, 'num_neurons': 20, 'optimizer': 'adam'}\n",
            "0.768031 (0.034542) with: {'activation': 'tanh', 'batch_size': 64, 'epochs': 10, 'num_hidden_layers': 2, 'num_neurons': 20, 'optimizer': 'rmsprop'}\n",
            "0.740741 (0.048772) with: {'activation': 'tanh', 'batch_size': 64, 'epochs': 10, 'num_hidden_layers': 2, 'num_neurons': 30, 'optimizer': 'adam'}\n",
            "0.740741 (0.040044) with: {'activation': 'tanh', 'batch_size': 64, 'epochs': 10, 'num_hidden_layers': 2, 'num_neurons': 30, 'optimizer': 'rmsprop'}\n",
            "0.729045 (0.027978) with: {'activation': 'tanh', 'batch_size': 64, 'epochs': 10, 'num_hidden_layers': 3, 'num_neurons': 10, 'optimizer': 'adam'}\n",
            "0.721248 (0.034542) with: {'activation': 'tanh', 'batch_size': 64, 'epochs': 10, 'num_hidden_layers': 3, 'num_neurons': 10, 'optimizer': 'rmsprop'}\n",
            "0.746589 (0.043326) with: {'activation': 'tanh', 'batch_size': 64, 'epochs': 10, 'num_hidden_layers': 3, 'num_neurons': 20, 'optimizer': 'adam'}\n",
            "0.738791 (0.038595) with: {'activation': 'tanh', 'batch_size': 64, 'epochs': 10, 'num_hidden_layers': 3, 'num_neurons': 20, 'optimizer': 'rmsprop'}\n",
            "0.754386 (0.047027) with: {'activation': 'tanh', 'batch_size': 64, 'epochs': 10, 'num_hidden_layers': 3, 'num_neurons': 30, 'optimizer': 'adam'}\n",
            "0.758285 (0.056965) with: {'activation': 'tanh', 'batch_size': 64, 'epochs': 10, 'num_hidden_layers': 3, 'num_neurons': 30, 'optimizer': 'rmsprop'}\n",
            "0.709552 (0.040610) with: {'activation': 'tanh', 'batch_size': 64, 'epochs': 20, 'num_hidden_layers': 1, 'num_neurons': 10, 'optimizer': 'adam'}\n",
            "0.674464 (0.046865) with: {'activation': 'tanh', 'batch_size': 64, 'epochs': 20, 'num_hidden_layers': 1, 'num_neurons': 10, 'optimizer': 'rmsprop'}\n",
            "0.727096 (0.041167) with: {'activation': 'tanh', 'batch_size': 64, 'epochs': 20, 'num_hidden_layers': 1, 'num_neurons': 20, 'optimizer': 'adam'}\n",
            "0.725146 (0.033081) with: {'activation': 'tanh', 'batch_size': 64, 'epochs': 20, 'num_hidden_layers': 1, 'num_neurons': 20, 'optimizer': 'rmsprop'}\n",
            "0.725146 (0.033424) with: {'activation': 'tanh', 'batch_size': 64, 'epochs': 20, 'num_hidden_layers': 1, 'num_neurons': 30, 'optimizer': 'adam'}\n",
            "0.764133 (0.044366) with: {'activation': 'tanh', 'batch_size': 64, 'epochs': 20, 'num_hidden_layers': 1, 'num_neurons': 30, 'optimizer': 'rmsprop'}\n",
            "0.707602 (0.026585) with: {'activation': 'tanh', 'batch_size': 64, 'epochs': 20, 'num_hidden_layers': 2, 'num_neurons': 10, 'optimizer': 'adam'}\n",
            "0.730994 (0.033424) with: {'activation': 'tanh', 'batch_size': 64, 'epochs': 20, 'num_hidden_layers': 2, 'num_neurons': 10, 'optimizer': 'rmsprop'}\n",
            "0.746589 (0.049698) with: {'activation': 'tanh', 'batch_size': 64, 'epochs': 20, 'num_hidden_layers': 2, 'num_neurons': 20, 'optimizer': 'adam'}\n",
            "0.766082 (0.058088) with: {'activation': 'tanh', 'batch_size': 64, 'epochs': 20, 'num_hidden_layers': 2, 'num_neurons': 20, 'optimizer': 'rmsprop'}\n",
            "0.764133 (0.052595) with: {'activation': 'tanh', 'batch_size': 64, 'epochs': 20, 'num_hidden_layers': 2, 'num_neurons': 30, 'optimizer': 'adam'}\n",
            "0.766082 (0.037293) with: {'activation': 'tanh', 'batch_size': 64, 'epochs': 20, 'num_hidden_layers': 2, 'num_neurons': 30, 'optimizer': 'rmsprop'}\n",
            "0.744639 (0.039758) with: {'activation': 'tanh', 'batch_size': 64, 'epochs': 20, 'num_hidden_layers': 3, 'num_neurons': 10, 'optimizer': 'adam'}\n",
            "0.748538 (0.037899) with: {'activation': 'tanh', 'batch_size': 64, 'epochs': 20, 'num_hidden_layers': 3, 'num_neurons': 10, 'optimizer': 'rmsprop'}\n",
            "0.758285 (0.052595) with: {'activation': 'tanh', 'batch_size': 64, 'epochs': 20, 'num_hidden_layers': 3, 'num_neurons': 20, 'optimizer': 'adam'}\n",
            "0.756335 (0.060460) with: {'activation': 'tanh', 'batch_size': 64, 'epochs': 20, 'num_hidden_layers': 3, 'num_neurons': 20, 'optimizer': 'rmsprop'}\n",
            "0.760234 (0.062073) with: {'activation': 'tanh', 'batch_size': 64, 'epochs': 20, 'num_hidden_layers': 3, 'num_neurons': 30, 'optimizer': 'adam'}\n",
            "0.754386 (0.045549) with: {'activation': 'tanh', 'batch_size': 64, 'epochs': 20, 'num_hidden_layers': 3, 'num_neurons': 30, 'optimizer': 'rmsprop'}\n",
            "0.754386 (0.041351) with: {'activation': 'tanh', 'batch_size': 64, 'epochs': 30, 'num_hidden_layers': 1, 'num_neurons': 10, 'optimizer': 'adam'}\n",
            "0.752437 (0.026298) with: {'activation': 'tanh', 'batch_size': 64, 'epochs': 30, 'num_hidden_layers': 1, 'num_neurons': 10, 'optimizer': 'rmsprop'}\n",
            "0.760234 (0.053170) with: {'activation': 'tanh', 'batch_size': 64, 'epochs': 30, 'num_hidden_layers': 1, 'num_neurons': 20, 'optimizer': 'adam'}\n",
            "0.752437 (0.044366) with: {'activation': 'tanh', 'batch_size': 64, 'epochs': 30, 'num_hidden_layers': 1, 'num_neurons': 20, 'optimizer': 'rmsprop'}\n",
            "0.746589 (0.052812) with: {'activation': 'tanh', 'batch_size': 64, 'epochs': 30, 'num_hidden_layers': 1, 'num_neurons': 30, 'optimizer': 'adam'}\n",
            "0.766082 (0.055066) with: {'activation': 'tanh', 'batch_size': 64, 'epochs': 30, 'num_hidden_layers': 1, 'num_neurons': 30, 'optimizer': 'rmsprop'}\n",
            "0.758285 (0.040044) with: {'activation': 'tanh', 'batch_size': 64, 'epochs': 30, 'num_hidden_layers': 2, 'num_neurons': 10, 'optimizer': 'adam'}\n",
            "0.754386 (0.040796) with: {'activation': 'tanh', 'batch_size': 64, 'epochs': 30, 'num_hidden_layers': 2, 'num_neurons': 10, 'optimizer': 'rmsprop'}\n",
            "0.744639 (0.051500) with: {'activation': 'tanh', 'batch_size': 64, 'epochs': 30, 'num_hidden_layers': 2, 'num_neurons': 20, 'optimizer': 'adam'}\n",
            "0.750487 (0.055135) with: {'activation': 'tanh', 'batch_size': 64, 'epochs': 30, 'num_hidden_layers': 2, 'num_neurons': 20, 'optimizer': 'rmsprop'}\n",
            "0.760234 (0.049851) with: {'activation': 'tanh', 'batch_size': 64, 'epochs': 30, 'num_hidden_layers': 2, 'num_neurons': 30, 'optimizer': 'adam'}\n",
            "0.760234 (0.041626) with: {'activation': 'tanh', 'batch_size': 64, 'epochs': 30, 'num_hidden_layers': 2, 'num_neurons': 30, 'optimizer': 'rmsprop'}\n",
            "0.766082 (0.045549) with: {'activation': 'tanh', 'batch_size': 64, 'epochs': 30, 'num_hidden_layers': 3, 'num_neurons': 10, 'optimizer': 'adam'}\n",
            "0.742690 (0.042974) with: {'activation': 'tanh', 'batch_size': 64, 'epochs': 30, 'num_hidden_layers': 3, 'num_neurons': 10, 'optimizer': 'rmsprop'}\n",
            "0.750487 (0.055135) with: {'activation': 'tanh', 'batch_size': 64, 'epochs': 30, 'num_hidden_layers': 3, 'num_neurons': 20, 'optimizer': 'adam'}\n",
            "0.744639 (0.059318) with: {'activation': 'tanh', 'batch_size': 64, 'epochs': 30, 'num_hidden_layers': 3, 'num_neurons': 20, 'optimizer': 'rmsprop'}\n",
            "0.760234 (0.041626) with: {'activation': 'tanh', 'batch_size': 64, 'epochs': 30, 'num_hidden_layers': 3, 'num_neurons': 30, 'optimizer': 'adam'}\n",
            "0.760234 (0.049622) with: {'activation': 'tanh', 'batch_size': 64, 'epochs': 30, 'num_hidden_layers': 3, 'num_neurons': 30, 'optimizer': 'rmsprop'}\n",
            "0.553606 (0.057364) with: {'activation': 'tanh', 'batch_size': 128, 'epochs': 10, 'num_hidden_layers': 1, 'num_neurons': 10, 'optimizer': 'adam'}\n",
            "0.633528 (0.056965) with: {'activation': 'tanh', 'batch_size': 128, 'epochs': 10, 'num_hidden_layers': 1, 'num_neurons': 10, 'optimizer': 'rmsprop'}\n",
            "0.555556 (0.029044) with: {'activation': 'tanh', 'batch_size': 128, 'epochs': 10, 'num_hidden_layers': 1, 'num_neurons': 20, 'optimizer': 'adam'}\n",
            "0.664717 (0.033876) with: {'activation': 'tanh', 'batch_size': 128, 'epochs': 10, 'num_hidden_layers': 1, 'num_neurons': 20, 'optimizer': 'rmsprop'}\n",
            "0.590643 (0.157425) with: {'activation': 'tanh', 'batch_size': 128, 'epochs': 10, 'num_hidden_layers': 1, 'num_neurons': 30, 'optimizer': 'adam'}\n",
            "0.707602 (0.040796) with: {'activation': 'tanh', 'batch_size': 128, 'epochs': 10, 'num_hidden_layers': 1, 'num_neurons': 30, 'optimizer': 'rmsprop'}\n",
            "0.653021 (0.065874) with: {'activation': 'tanh', 'batch_size': 128, 'epochs': 10, 'num_hidden_layers': 2, 'num_neurons': 10, 'optimizer': 'adam'}\n",
            "0.678363 (0.045549) with: {'activation': 'tanh', 'batch_size': 128, 'epochs': 10, 'num_hidden_layers': 2, 'num_neurons': 10, 'optimizer': 'rmsprop'}\n",
            "0.746589 (0.052812) with: {'activation': 'tanh', 'batch_size': 128, 'epochs': 10, 'num_hidden_layers': 2, 'num_neurons': 20, 'optimizer': 'adam'}\n",
            "0.730994 (0.034432) with: {'activation': 'tanh', 'batch_size': 128, 'epochs': 10, 'num_hidden_layers': 2, 'num_neurons': 20, 'optimizer': 'rmsprop'}\n",
            "0.725146 (0.029819) with: {'activation': 'tanh', 'batch_size': 128, 'epochs': 10, 'num_hidden_layers': 2, 'num_neurons': 30, 'optimizer': 'adam'}\n",
            "0.742690 (0.042440) with: {'activation': 'tanh', 'batch_size': 128, 'epochs': 10, 'num_hidden_layers': 2, 'num_neurons': 30, 'optimizer': 'rmsprop'}\n",
            "0.676413 (0.055956) with: {'activation': 'tanh', 'batch_size': 128, 'epochs': 10, 'num_hidden_layers': 3, 'num_neurons': 10, 'optimizer': 'adam'}\n",
            "0.721248 (0.052595) with: {'activation': 'tanh', 'batch_size': 128, 'epochs': 10, 'num_hidden_layers': 3, 'num_neurons': 10, 'optimizer': 'rmsprop'}\n",
            "0.736842 (0.012633) with: {'activation': 'tanh', 'batch_size': 128, 'epochs': 10, 'num_hidden_layers': 3, 'num_neurons': 20, 'optimizer': 'adam'}\n",
            "0.754386 (0.038199) with: {'activation': 'tanh', 'batch_size': 128, 'epochs': 10, 'num_hidden_layers': 3, 'num_neurons': 20, 'optimizer': 'rmsprop'}\n",
            "0.742690 (0.021881) with: {'activation': 'tanh', 'batch_size': 128, 'epochs': 10, 'num_hidden_layers': 3, 'num_neurons': 30, 'optimizer': 'adam'}\n",
            "0.744639 (0.043326) with: {'activation': 'tanh', 'batch_size': 128, 'epochs': 10, 'num_hidden_layers': 3, 'num_neurons': 30, 'optimizer': 'rmsprop'}\n",
            "0.653021 (0.041717) with: {'activation': 'tanh', 'batch_size': 128, 'epochs': 20, 'num_hidden_layers': 1, 'num_neurons': 10, 'optimizer': 'adam'}\n",
            "0.600390 (0.076148) with: {'activation': 'tanh', 'batch_size': 128, 'epochs': 20, 'num_hidden_layers': 1, 'num_neurons': 10, 'optimizer': 'rmsprop'}\n",
            "0.711501 (0.031067) with: {'activation': 'tanh', 'batch_size': 128, 'epochs': 20, 'num_hidden_layers': 1, 'num_neurons': 20, 'optimizer': 'adam'}\n",
            "0.707602 (0.043762) with: {'activation': 'tanh', 'batch_size': 128, 'epochs': 20, 'num_hidden_layers': 1, 'num_neurons': 20, 'optimizer': 'rmsprop'}\n",
            "0.732943 (0.026298) with: {'activation': 'tanh', 'batch_size': 128, 'epochs': 20, 'num_hidden_layers': 1, 'num_neurons': 30, 'optimizer': 'adam'}\n",
            "0.734893 (0.024503) with: {'activation': 'tanh', 'batch_size': 128, 'epochs': 20, 'num_hidden_layers': 1, 'num_neurons': 30, 'optimizer': 'rmsprop'}\n",
            "0.693957 (0.043326) with: {'activation': 'tanh', 'batch_size': 128, 'epochs': 20, 'num_hidden_layers': 2, 'num_neurons': 10, 'optimizer': 'adam'}\n",
            "0.686160 (0.057364) with: {'activation': 'tanh', 'batch_size': 128, 'epochs': 20, 'num_hidden_layers': 2, 'num_neurons': 10, 'optimizer': 'rmsprop'}\n",
            "0.754386 (0.029819) with: {'activation': 'tanh', 'batch_size': 128, 'epochs': 20, 'num_hidden_layers': 2, 'num_neurons': 20, 'optimizer': 'adam'}\n",
            "0.742690 (0.038199) with: {'activation': 'tanh', 'batch_size': 128, 'epochs': 20, 'num_hidden_layers': 2, 'num_neurons': 20, 'optimizer': 'rmsprop'}\n",
            "0.742690 (0.045549) with: {'activation': 'tanh', 'batch_size': 128, 'epochs': 20, 'num_hidden_layers': 2, 'num_neurons': 30, 'optimizer': 'adam'}\n",
            "0.769981 (0.040044) with: {'activation': 'tanh', 'batch_size': 128, 'epochs': 20, 'num_hidden_layers': 2, 'num_neurons': 30, 'optimizer': 'rmsprop'}\n",
            "0.748538 (0.047748) with: {'activation': 'tanh', 'batch_size': 128, 'epochs': 20, 'num_hidden_layers': 3, 'num_neurons': 10, 'optimizer': 'adam'}\n",
            "0.732943 (0.033876) with: {'activation': 'tanh', 'batch_size': 128, 'epochs': 20, 'num_hidden_layers': 3, 'num_neurons': 10, 'optimizer': 'rmsprop'}\n",
            "0.762183 (0.036468) with: {'activation': 'tanh', 'batch_size': 128, 'epochs': 20, 'num_hidden_layers': 3, 'num_neurons': 20, 'optimizer': 'adam'}\n",
            "0.750487 (0.038298) with: {'activation': 'tanh', 'batch_size': 128, 'epochs': 20, 'num_hidden_layers': 3, 'num_neurons': 20, 'optimizer': 'rmsprop'}\n",
            "0.762183 (0.046865) with: {'activation': 'tanh', 'batch_size': 128, 'epochs': 20, 'num_hidden_layers': 3, 'num_neurons': 30, 'optimizer': 'adam'}\n",
            "0.762183 (0.042796) with: {'activation': 'tanh', 'batch_size': 128, 'epochs': 20, 'num_hidden_layers': 3, 'num_neurons': 30, 'optimizer': 'rmsprop'}\n",
            "0.707602 (0.045549) with: {'activation': 'tanh', 'batch_size': 128, 'epochs': 30, 'num_hidden_layers': 1, 'num_neurons': 10, 'optimizer': 'adam'}\n",
            "0.688109 (0.060836) with: {'activation': 'tanh', 'batch_size': 128, 'epochs': 30, 'num_hidden_layers': 1, 'num_neurons': 10, 'optimizer': 'rmsprop'}\n",
            "0.732943 (0.035196) with: {'activation': 'tanh', 'batch_size': 128, 'epochs': 30, 'num_hidden_layers': 1, 'num_neurons': 20, 'optimizer': 'adam'}\n",
            "0.736842 (0.009550) with: {'activation': 'tanh', 'batch_size': 128, 'epochs': 30, 'num_hidden_layers': 1, 'num_neurons': 20, 'optimizer': 'rmsprop'}\n",
            "0.740741 (0.035838) with: {'activation': 'tanh', 'batch_size': 128, 'epochs': 30, 'num_hidden_layers': 1, 'num_neurons': 30, 'optimizer': 'adam'}\n",
            "0.769981 (0.027568) with: {'activation': 'tanh', 'batch_size': 128, 'epochs': 30, 'num_hidden_layers': 1, 'num_neurons': 30, 'optimizer': 'rmsprop'}\n",
            "0.738791 (0.027151) with: {'activation': 'tanh', 'batch_size': 128, 'epochs': 30, 'num_hidden_layers': 2, 'num_neurons': 10, 'optimizer': 'adam'}\n",
            "0.760234 (0.036049) with: {'activation': 'tanh', 'batch_size': 128, 'epochs': 30, 'num_hidden_layers': 2, 'num_neurons': 10, 'optimizer': 'rmsprop'}\n",
            "0.773879 (0.043326) with: {'activation': 'tanh', 'batch_size': 128, 'epochs': 30, 'num_hidden_layers': 2, 'num_neurons': 20, 'optimizer': 'adam'}\n",
            "0.750487 (0.044366) with: {'activation': 'tanh', 'batch_size': 128, 'epochs': 30, 'num_hidden_layers': 2, 'num_neurons': 20, 'optimizer': 'rmsprop'}\n",
            "0.758285 (0.040609) with: {'activation': 'tanh', 'batch_size': 128, 'epochs': 30, 'num_hidden_layers': 2, 'num_neurons': 30, 'optimizer': 'adam'}\n",
            "0.754386 (0.053810) with: {'activation': 'tanh', 'batch_size': 128, 'epochs': 30, 'num_hidden_layers': 2, 'num_neurons': 30, 'optimizer': 'rmsprop'}\n",
            "0.727096 (0.071676) with: {'activation': 'tanh', 'batch_size': 128, 'epochs': 30, 'num_hidden_layers': 3, 'num_neurons': 10, 'optimizer': 'adam'}\n",
            "0.725146 (0.012633) with: {'activation': 'tanh', 'batch_size': 128, 'epochs': 30, 'num_hidden_layers': 3, 'num_neurons': 10, 'optimizer': 'rmsprop'}\n",
            "0.746589 (0.048772) with: {'activation': 'tanh', 'batch_size': 128, 'epochs': 30, 'num_hidden_layers': 3, 'num_neurons': 20, 'optimizer': 'adam'}\n",
            "0.762183 (0.047107) with: {'activation': 'tanh', 'batch_size': 128, 'epochs': 30, 'num_hidden_layers': 3, 'num_neurons': 20, 'optimizer': 'rmsprop'}\n",
            "0.750487 (0.055341) with: {'activation': 'tanh', 'batch_size': 128, 'epochs': 30, 'num_hidden_layers': 3, 'num_neurons': 30, 'optimizer': 'adam'}\n",
            "0.760234 (0.057892) with: {'activation': 'tanh', 'batch_size': 128, 'epochs': 30, 'num_hidden_layers': 3, 'num_neurons': 30, 'optimizer': 'rmsprop'}\n",
            "<built-in method argmax of numpy.ndarray object at 0x7f6d32643750>\n"
          ]
        }
      ],
      "source": [
        "from sklearn.model_selection import GridSearchCV\n",
        "from keras.models import Sequential\n",
        "from keras.layers import Dense\n",
        "from keras.wrappers.scikit_learn import KerasClassifier\n",
        "\n",
        "def create_model(num_hidden_layers=1, num_neurons=10, activation='relu', optimizer='adam'):\n",
        "    model = Sequential()\n",
        "    model.add(Dense(num_neurons, input_dim=8, activation=activation))\n",
        "    for i in range(num_hidden_layers-1):\n",
        "        model.add(Dense(num_neurons, activation=activation))\n",
        "    model.add(Dense(1, activation=\"sigmoid\"))\n",
        "    model.compile(loss=\"binary_crossentropy\", optimizer=optimizer, metrics=[\"accuracy\"])\n",
        "    return model\n",
        "\n",
        "model = KerasClassifier(build_fn=create_model, epochs=100, batch_size=32, verbose=0)\n",
        "\n",
        "param_grid = {\n",
        "    'num_hidden_layers': [1, 2, 3],\n",
        "    'num_neurons': [10, 20, 30],\n",
        "    'activation': ['relu', 'tanh'],\n",
        "    'optimizer': ['adam', 'rmsprop'],\n",
        "    'batch_size': [32, 64, 128],\n",
        "    'epochs': [10, 20, 30],\n",
        "}\n",
        "\n",
        "grid = GridSearchCV(estimator=model, param_grid=param_grid, cv=3)\n",
        "grid_result = grid.fit(X_train, y_train)\n",
        "\n",
        "print(\"Best: %f using %s\" % (grid_result.best_score_, grid_result.best_params_))\n",
        "means = grid_result.cv_results_['mean_test_score']\n",
        "stds = grid_result.cv_results_['std_test_score']\n",
        "params = grid_result.cv_results_['params']\n",
        "for mean, stdev, param in zip(means, stds, params):\n",
        "    print(\"%f (%f) with: %r\" % (mean, stdev, param))\n",
        "\n",
        "print(means.argmax)"
      ]
    },
    {
      "cell_type": "code",
      "execution_count": null,
      "metadata": {
        "id": "4Z1dTMAY5EKm",
        "colab": {
          "base_uri": "https://localhost:8080/"
        },
        "outputId": "0854fcba-494a-4a94-8a13-5acea8c8d798"
      },
      "outputs": [
        {
          "output_type": "execute_result",
          "data": {
            "text/plain": [
              "dict_keys(['mean_fit_time', 'std_fit_time', 'mean_score_time', 'std_score_time', 'param_activation', 'param_batch_size', 'param_epochs', 'param_num_hidden_layers', 'param_num_neurons', 'param_optimizer', 'params', 'split0_test_score', 'split1_test_score', 'split2_test_score', 'mean_test_score', 'std_test_score', 'rank_test_score'])"
            ]
          },
          "metadata": {},
          "execution_count": 37
        }
      ],
      "source": [
        "grid_result.cv_results_.keys()"
      ]
    },
    {
      "cell_type": "code",
      "execution_count": null,
      "metadata": {
        "id": "UYUMmycgjXQl",
        "colab": {
          "base_uri": "https://localhost:8080/"
        },
        "outputId": "a91041d3-e0c5-40e2-ae5f-4dbf4458a39d"
      },
      "outputs": [
        {
          "output_type": "stream",
          "name": "stdout",
          "text": [
            "Les meilleurs parametres :  {'activation': 'relu', 'batch_size': 32, 'epochs': 20, 'num_hidden_layers': 1, 'num_neurons': 30, 'optimizer': 'adam'}\n"
          ]
        }
      ],
      "source": [
        "print(\"Les meilleurs parametres : \", grid_result.best_params_)"
      ]
    },
    {
      "cell_type": "code",
      "source": [
        "import numpy as np\n",
        "import matplotlib.pyplot as plt\n",
        "from sklearn.model_selection import learning_curve\n",
        "\n",
        "# Generate the learning curve\n",
        "train_sizes, train_scores, validation_scores = learning_curve( grid_result, X_train, y_train, cv=5, scoring=\"accuracy\", train_sizes=np.linspace(0.2, 1, 5))\n",
        "\n",
        "# Plot the learning curve\n",
        "plt.plot(train_sizes, np.mean(train_scores, axis=1), label=\"Training score\")\n",
        "plt.plot(train_sizes, np.mean(validation_scores, axis=1), label=\"Validation score\")\n",
        "plt.legend()\n",
        "plt.xlabel(\"Training examples\")\n",
        "plt.ylabel(\"Score\")\n",
        "plt.title(\"Learning Curve for Logistic Regression\")\n",
        "plt.show()\n"
      ],
      "metadata": {
        "colab": {
          "base_uri": "https://localhost:8080/",
          "height": 301
        },
        "id": "s2911Tcos1sK",
        "outputId": "e845d1e2-1a45-4a0a-a392-0de693d0a3c4"
      },
      "execution_count": null,
      "outputs": [
        {
          "output_type": "display_data",
          "data": {
            "text/plain": [
              "<Figure size 432x288 with 1 Axes>"
            ],
            "image/png": "[encoded data removed]"
          },
          "metadata": {
            "needs_background": "light"
          }
        }
      ]
    }
  ],
  "metadata": {
    "colab": {
      "provenance": []
    },
    "kernelspec": {
      "display_name": "Python 3",
      "language": "python",
      "name": "python3"
    },
    "language_info": {
      "name": "python",
      "version": "3.8.10"
    },
    "vscode": {
      "interpreter": {
        "hash": "87b22cf158a5e468080b8b1724dc9a1d3d9b5f211feb14399113678d687c058c"
      }
    }
  },
  "nbformat": 4,
  "nbformat_minor": 0
}